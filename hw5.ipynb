{
 "cells": [
  {
   "cell_type": "markdown",
   "metadata": {
    "id": "view-in-github"
   },
   "source": [
    "<a href=\"https://colab.research.google.com/github/DARoSLab/Adv_robot_dyn_ctrl/blob/main/hw5.ipynb\" target=\"_parent\"><img src=\"https://colab.research.google.com/assets/colab-badge.svg\" alt=\"Open In Colab\"/></a>"
   ]
  },
  {
   "cell_type": "markdown",
   "metadata": {
    "id": "IuqwDQx1WCFt"
   },
   "source": [
    "# **HW 5. Three DoF Planar Arm**\n",
    "\n",
    "The goal of HW 5 is to create a dynamics simulation of a 3 DoF openchain system described in the figures below.\n",
    "\n",
    "\n",
    "<img src=\"https://github.com/DARoSLab/Adv_robot_dyn_ctrl/blob/main/Figures/3DoF_Arm_Kinematics.png?raw=true\" height=\"400\">\n",
    "<img src=\"https://github.com/DARoSLab/Adv_robot_dyn_ctrl/blob/main/Figures/3DoF_Arm_Dynamics.png?raw=true\" height=\"400\">\n",
    "\n",
    "$\\color{red}{\\text{Please do not use any other Python packages except the ones we give you.}}$\n"
   ]
  },
  {
   "cell_type": "code",
   "execution_count": null,
   "metadata": {
    "id": "EyvODgIVESou"
   },
   "outputs": [],
   "source": [
    "!pip3 install sympy matplotlib seaborn ffmpeg-python"
   ]
  },
  {
   "cell_type": "code",
   "execution_count": null,
   "metadata": {
    "id": "kI138BjQFKeI"
   },
   "outputs": [],
   "source": [
    "import sympy as sym\n",
    "from sympy import Symbol, simplify, lambdify\n",
    "from sympy.matrices.expressions import transpose\n",
    "from sympy import sin, cos, Matrix\n",
    "import numpy as np\n",
    "from IPython.display import HTML\n",
    "import numpy as np\n",
    "import matplotlib.pyplot as plt\n",
    "import seaborn as sns\n",
    "from matplotlib import animation\n",
    "%matplotlib inline\n"
   ]
  },
  {
   "cell_type": "markdown",
   "metadata": {
    "id": "nKgJgDXEW4GB"
   },
   "source": [
    "# Declare Symbolic Variables"
   ]
  },
  {
   "cell_type": "code",
   "execution_count": null,
   "metadata": {
    "id": "lbu-PXALJ-It"
   },
   "outputs": [],
   "source": [
    "# Write your code: Symbolic variable definition. Complete the following variable list\n",
    "[m1, m2, m3, I1, I2, I3, l1, l2, l3,  c1, c2, c3, g] =\n",
    "[th1, th2, th3, dth1, dth2, dth3, ddth1, ddth2, ddth3] =\n",
    "[tau1, tau2, tau3] =\n",
    "\n",
    "# Symbolic variable groupings: No need to change\n",
    "q  = Matrix([th1,  th2, th3])\n",
    "dq = Matrix([dth1,  dth2, dth3])\n",
    "ddq= Matrix([ddth1, ddth2, ddth3])\n",
    "u  = Matrix([tau1, tau2, tau3]) # control input\n",
    "z = Matrix([q.transpose(), dq.transpose()]) # state\n",
    "p   = [l1, l2, l3, c1, c2, c3, m1, m2, m3, I1, I2, I3, g]  # parameters\n",
    "\n",
    "zp_params = list(z)+list(p)\n",
    "zup_params = list(z)+list(u)+list(p)\n",
    "\n",
    "# Parameters: No need to change\n",
    "m1_p = 1.5\n",
    "m2_p = 1.\n",
    "m3_p = 2.0\n",
    "l1_p = .6\n",
    "l2_p = .4\n",
    "l3_p = .5\n",
    "c1_p = .3\n",
    "c2_p = .2\n",
    "c3_p = .4\n",
    "I1_p = 0.05\n",
    "I2_p = 0.05\n",
    "I3_p = 0.09\n",
    "\n",
    "g_p  = 9.81\n",
    "params   = [l1_p, l2_p , l3_p, c1_p, c2_p, c3_p, m1_p, m2_p, m3_p, I1_p, I2_p, I3_p, g_p]"
   ]
  },
  {
   "cell_type": "markdown",
   "metadata": {
    "id": "I3vJmOWpXSKk"
   },
   "source": [
    "# **Q.1. [25 pts] Kinemeatics**\n",
    "\n",
    "Complete the function that computes the positions and velocities of the points of interest. You should identify all position and velocity (both angular and linear) variables required to compute kinetic and potential energies."
   ]
  },
  {
   "cell_type": "code",
   "execution_count": null,
   "metadata": {
    "id": "GoIlqq_aJFLz"
   },
   "outputs": [],
   "source": [
    "# Kinemeatics\n",
    "rO = Matrix([0, 0, 0])    # position of link 1\n",
    "ehat1 = Matrix([cos(th1), sin(th1), 0])           # Define unit vector along Leg 1\n",
    "ehat2 = Matrix([cos(th1+th2), sin(th1+th2), 0])  # Define unit vector along Leg 2\n",
    "ehat3 = Matrix([cos(th1+th2+th3), sin(th1+th2+th3), 0])  # Define unit vector along Leg 2\n",
    "\n",
    "ghat  = Matrix([0, -1 , 0])\n",
    "\n",
    "# Write your code: Define CoM positions and link positions\n",
    "\n",
    "\n",
    "\n",
    "# Write your code: Define linear and angular velocity of each link\n",
    "# Hint: Implement and utilize 'ddt' function based on chain rule.\n",
    "#       You can also use Jacobian function, lambdify function in Sympy and lambda function.\n",
    "\n"
   ]
  },
  {
   "cell_type": "code",
   "execution_count": null,
   "metadata": {
    "id": "5LCQu9aeYY9I"
   },
   "outputs": [],
   "source": [
    "# Test Forward Kinematics implementation (No need to change)\n",
    "def test_forward_kinematics(params):\n",
    "\n",
    "  test_config = [[0, 0, 0, 0, 0, 0],\n",
    "                 [0, np.pi/4, np.pi/6, 0, 0, 0],\n",
    "                 [np.pi/8, -0.6, 0, 0, 0, 0]]\n",
    "  res = []\n",
    "  soln = np.array([[[ 0, 0, 0],\n",
    "           [ 0.6, 0, 0],\n",
    "           [ 1., 0, 0],\n",
    "           [ 1.5, 0, 0]],\n",
    "        [[ 0.,          0.,          0.],\n",
    "          [ 0.6,         0,         0.],\n",
    "          [ 0.88284271, 0.28284271, 0.],\n",
    "          [ 1.01225224, 0.76580563,  0.]],\n",
    "        [[0.,          0.,          0.],\n",
    "          [ 0.55432772, 0.22961006,  0.],\n",
    "          [ 0.94576372, 0.14728232,  0. ],\n",
    "          [ 1.43505872, 0.04437264,  0. ]]])\n",
    "\n",
    "  for i, q in enumerate(test_config):\n",
    "    xp_params = q + list(params)\n",
    "    res.append(keypoints_func(*xp_params))\n",
    "  res_np = np.array(res)\n",
    "\n",
    "  assert np.allclose(soln, res_np), f'Your Forward kinematics implementation is wrong soln: {soln} != res: {res_np}'\n",
    "\n",
    "  print('Your Forward Kinematics implementation is correct!')"
   ]
  },
  {
   "cell_type": "code",
   "execution_count": null,
   "metadata": {
    "colab": {
     "base_uri": "https://localhost:8080/"
    },
    "id": "7AzZsV3491U5",
    "outputId": "66edf630-297d-46ca-99ff-6d3c4dce7d1b"
   },
   "outputs": [
    {
     "name": "stdout",
     "output_type": "stream",
     "text": [
      "Your Forward Kinematics implementation is correct!\n"
     ]
    }
   ],
   "source": [
    "test_forward_kinematics(params)"
   ]
  },
  {
   "cell_type": "markdown",
   "metadata": {
    "id": "SA39N7MyXS3u"
   },
   "source": [
    "# **Q.2. [15 pts] Kinetic and Potential Energy of Links**\n",
    "\n",
    "Define the kinetic and potential energy of each link"
   ]
  },
  {
   "cell_type": "code",
   "execution_count": null,
   "metadata": {
    "id": "4FOBhUVhKEpo"
   },
   "outputs": [],
   "source": [
    "# Write your code: Kinetic and Potential Energy of link 1\n",
    "T1 =\n",
    "V1 =\n",
    "\n",
    "# Write your code: Kinetic and Potential Energy of link 2\n",
    "T2 =\n",
    "V2 =\n",
    "\n",
    "# Write your code: Kinetic and Potential Energy of link 3\n",
    "T3 =\n",
    "V3 =\n"
   ]
  },
  {
   "cell_type": "markdown",
   "metadata": {
    "id": "XQbqqurzXTfJ"
   },
   "source": [
    "# **Q.3. [15 pts] Lagrangian and Total Energy**"
   ]
  },
  {
   "cell_type": "code",
   "execution_count": null,
   "metadata": {
    "id": "08QbM8fULVRO"
   },
   "outputs": [],
   "source": [
    "# Write your code: Kinetic, Potential, and total energy of the entire system\n",
    "\n",
    "\n",
    "E =\n",
    "\n",
    "# Write your code: Lagrangian\n",
    "L ="
   ]
  },
  {
   "cell_type": "markdown",
   "metadata": {
    "id": "gzkRqvssXUXQ"
   },
   "source": [
    "# **Q.4. [15 pts] Generalized Forces**\n",
    "\n",
    "Define generalized force vectors using a M2Q function.\n",
    "\n",
    "Hint: The result should be $Q = \\begin{pmatrix}\\tau_1 \\\\ \\tau_2 \\\\ \\tau_3\\end{pmatrix}$."
   ]
  },
  {
   "cell_type": "code",
   "execution_count": null,
   "metadata": {
    "colab": {
     "base_uri": "https://localhost:8080/"
    },
    "id": "C4I4G0PNMTM7",
    "outputId": "b701d790-bc87-413b-d087-b6e037fc08e9"
   },
   "outputs": [
    {
     "name": "stdout",
     "output_type": "stream",
     "text": [
      "Matrix([[tau1], [0], [0]])\n",
      "Matrix([[0], [tau2], [0]])\n",
      "Matrix([[0], [0], [tau3]])\n",
      "Matrix([[tau1], [tau2], [tau3]])\n"
     ]
    }
   ],
   "source": [
    "# Write your code\n",
    "\n",
    "\n",
    "\n",
    "print(Q_tau1)\n",
    "print(Q_tau2)\n",
    "print(Q_tau3)\n",
    "\n",
    "print(Q)\n",
    "\n",
    "# Output should be\n",
    "# Matrix(...)"
   ]
  },
  {
   "cell_type": "markdown",
   "metadata": {
    "id": "bFmw3Qr2XVjm"
   },
   "source": [
    "# **Q.5. [10 pts] Equations of Motion**\n",
    "\n",
    "Complete the equations of motion by applying Lagrange formula. Find A (Mass matrix) and b vector explained in the lecture."
   ]
  },
  {
   "cell_type": "code",
   "execution_count": null,
   "metadata": {
    "id": "hPlwm5ECQt8x"
   },
   "outputs": [],
   "source": [
    "# Write your code: Find A and b by solving Lagrange's equation\n",
    "\n"
   ]
  },
  {
   "cell_type": "code",
   "execution_count": null,
   "metadata": {
    "colab": {
     "base_uri": "https://localhost:8080/",
     "height": 98
    },
    "collapsed": true,
    "id": "AYBpaFz37gkW",
    "outputId": "4ef22a71-1777-470f-962d-88c78eb8de26"
   },
   "outputs": [
    {
     "data": {
      "text/latex": [
       "$\\displaystyle \\left[\\begin{matrix}1.0 I_{1} + 1.0 I_{2} + 1.0 I_{3} + 1.0 c_{1}^{2} m_{1} + 1.0 m_{2} \\left(c_{2}^{2} + 2 c_{2} l_{1} \\cos{\\left(th_{2} \\right)} + l_{1}^{2}\\right) + 1.0 m_{3} \\left(c_{3}^{2} + 2 c_{3} l_{1} \\cos{\\left(th_{2} + th_{3} \\right)} + 2 c_{3} l_{2} \\cos{\\left(th_{3} \\right)} + l_{1}^{2} + 2 l_{1} l_{2} \\cos{\\left(th_{2} \\right)} + l_{2}^{2}\\right) & 1.0 I_{2} + 1.0 I_{3} + 1.0 c_{2} m_{2} \\left(c_{2} + l_{1} \\cos{\\left(th_{2} \\right)}\\right) + 1.0 m_{3} \\left(c_{3}^{2} + c_{3} l_{1} \\cos{\\left(th_{2} + th_{3} \\right)} + 2 c_{3} l_{2} \\cos{\\left(th_{3} \\right)} + l_{1} l_{2} \\cos{\\left(th_{2} \\right)} + l_{2}^{2}\\right) & 1.0 I_{3} + 1.0 c_{3} m_{3} \\left(c_{3} + l_{1} \\cos{\\left(th_{2} + th_{3} \\right)} + l_{2} \\cos{\\left(th_{3} \\right)}\\right)\\\\1.0 I_{2} + 1.0 I_{3} + 1.0 c_{2} m_{2} \\left(c_{2} + l_{1} \\cos{\\left(th_{2} \\right)}\\right) + 1.0 m_{3} \\left(c_{3}^{2} + c_{3} l_{1} \\cos{\\left(th_{2} + th_{3} \\right)} + 2 c_{3} l_{2} \\cos{\\left(th_{3} \\right)} + l_{1} l_{2} \\cos{\\left(th_{2} \\right)} + l_{2}^{2}\\right) & 1.0 I_{2} + 1.0 I_{3} + 1.0 c_{2}^{2} m_{2} + 1.0 m_{3} \\left(c_{3}^{2} + 2 c_{3} l_{2} \\cos{\\left(th_{3} \\right)} + l_{2}^{2}\\right) & 1.0 I_{3} + 1.0 c_{3} m_{3} \\left(c_{3} + l_{2} \\cos{\\left(th_{3} \\right)}\\right)\\\\1.0 I_{3} + 1.0 c_{3} m_{3} \\left(c_{3} + l_{1} \\cos{\\left(th_{2} + th_{3} \\right)} + l_{2} \\cos{\\left(th_{3} \\right)}\\right) & 1.0 I_{3} + 1.0 c_{3} m_{3} \\left(c_{3} + l_{2} \\cos{\\left(th_{3} \\right)}\\right) & 1.0 I_{3} + 1.0 c_{3}^{2} m_{3}\\end{matrix}\\right]$"
      ],
      "text/plain": [
       "Matrix([\n",
       "[1.0*I1 + 1.0*I2 + 1.0*I3 + 1.0*c1**2*m1 + 1.0*m2*(c2**2 + 2*c2*l1*cos(th2) + l1**2) + 1.0*m3*(c3**2 + 2*c3*l1*cos(th2 + th3) + 2*c3*l2*cos(th3) + l1**2 + 2*l1*l2*cos(th2) + l2**2), 1.0*I2 + 1.0*I3 + 1.0*c2*m2*(c2 + l1*cos(th2)) + 1.0*m3*(c3**2 + c3*l1*cos(th2 + th3) + 2*c3*l2*cos(th3) + l1*l2*cos(th2) + l2**2), 1.0*I3 + 1.0*c3*m3*(c3 + l1*cos(th2 + th3) + l2*cos(th3))],\n",
       "[                                                 1.0*I2 + 1.0*I3 + 1.0*c2*m2*(c2 + l1*cos(th2)) + 1.0*m3*(c3**2 + c3*l1*cos(th2 + th3) + 2*c3*l2*cos(th3) + l1*l2*cos(th2) + l2**2),                                                         1.0*I2 + 1.0*I3 + 1.0*c2**2*m2 + 1.0*m3*(c3**2 + 2*c3*l2*cos(th3) + l2**2),                     1.0*I3 + 1.0*c3*m3*(c3 + l2*cos(th3))],\n",
       "[                                                                                                                          1.0*I3 + 1.0*c3*m3*(c3 + l1*cos(th2 + th3) + l2*cos(th3)),                                                                                              1.0*I3 + 1.0*c3*m3*(c3 + l2*cos(th3)),                                     1.0*I3 + 1.0*c3**2*m3]])"
      ]
     },
     "execution_count": 166,
     "metadata": {},
     "output_type": "execute_result"
    }
   ],
   "source": [
    "A # Note A is presented by symbols."
   ]
  },
  {
   "cell_type": "markdown",
   "metadata": {
    "id": "_17LJTEOXWVy"
   },
   "source": [
    "# **Helper Functions For Simulation**"
   ]
  },
  {
   "cell_type": "code",
   "execution_count": null,
   "metadata": {
    "id": "IQbDggpIUySz"
   },
   "outputs": [],
   "source": [
    "# Helper Functions: No need to change\n",
    "A_func = sym.lambdify(zp_params, A)\n",
    "b_func = sym.lambdify(zup_params, b)\n",
    "keypoints_func = sym.lambdify(zp_params, keypoints)\n",
    "kinetic_energy_func = sym.lambdify(zp_params, KE)\n",
    "potential_energy_func = sym.lambdify(zp_params, PE)\n",
    "E_func = sym.lambdify(zp_params, E)"
   ]
  },
  {
   "cell_type": "markdown",
   "metadata": {
    "id": "RdsdtEi8XW0A"
   },
   "source": [
    "# **Q.6. [10 pts] Dynamics**\n",
    "\n",
    "Complete the dynamics function returning $\\ddot{q}$ by using $A$ and $b$."
   ]
  },
  {
   "cell_type": "code",
   "execution_count": null,
   "metadata": {
    "id": "6ab6Hp4FYbWQ"
   },
   "outputs": [],
   "source": [
    "def dynamics(x, params):\n",
    "  u = [0, 0, 0]\n",
    "  xp_params = list(x) + list(params)\n",
    "  xup_params = list(x) + u + list(params)\n",
    "  A_dyn = A_func(*xp_params)\n",
    "  b_dyn = b_func(*xup_params)\n",
    "\n",
    "  # Write your code: Compute joint acceleration\n",
    "\n",
    "\n",
    "\n",
    "  return ddq"
   ]
  },
  {
   "cell_type": "markdown",
   "metadata": {
    "id": "gwMJPpN7h_UC"
   },
   "source": [
    "# **Perform Simulation**"
   ]
  },
  {
   "cell_type": "code",
   "execution_count": null,
   "metadata": {
    "id": "Ym_DAl_za8HW"
   },
   "outputs": [],
   "source": [
    "dt =0.01;\n",
    "tf = 7;\n",
    "num_step = int(np.floor(tf/dt));\n",
    "tspan = np.linspace(0, tf, num_step);\n",
    "x0 = np.array([np.pi/3, -1, 1, 0.0, 0.0, 0.0]).T;\n",
    "x_out = np.zeros((6,num_step));\n",
    "x_out[:,0] = x0;\n",
    "keypoints_hist = []\n",
    "kinetic_energy_hist = []\n",
    "potential_energy_hist = []\n",
    "total_energy_hist = []\n",
    "\n",
    "for i in range(num_step-1):\n",
    "    xp_params = list(x_out[:, i]) + list(params)\n",
    "    keypoints_hist.append(keypoints_func(*xp_params))\n",
    "    kinetic_energy_hist.append(kinetic_energy_func(*xp_params))\n",
    "    potential_energy_hist.append(potential_energy_func(*xp_params))\n",
    "    total_energy_hist.append(E_func(*xp_params))\n",
    "\n",
    "    ddq = dynamics(x_out[:,i], params);\n",
    "    x_out[3:,i+1] = x_out[3:,i] + ddq*dt;\n",
    "    x_out[:3,i+1] = x_out[:3,i] + x_out[3:,i+1]*dt;\n"
   ]
  },
  {
   "cell_type": "markdown",
   "metadata": {
    "id": "RSpwjPSbiLN5"
   },
   "source": [
    "# **Visualize Simulation**"
   ]
  },
  {
   "cell_type": "code",
   "execution_count": null,
   "metadata": {
    "id": "bWysl3YY9h0r"
   },
   "outputs": [],
   "source": [
    "# 3 dof arm visualization function:\n",
    "def visualize_arm(keypoints_hist, dt = 0.001, num_frames=200):\n",
    "  fig= plt.figure(figsize=(10,10))\n",
    "  ax = plt.subplot(1,1,1)\n",
    "  keypoints = keypoints_hist[0]\n",
    "  link1, = ax.plot([], [], 'r', lw=15, alpha=0.3)\n",
    "  link2, = ax.plot([], [], 'r', lw=15, alpha=0.3)\n",
    "  link3, = ax.plot([], [], 'r', lw=15, alpha=0.3)\n",
    "\n",
    "  txt_title = ax.set_title('')\n",
    "\n",
    "  ax.set_xlim(( -2, 2))\n",
    "  ax.set_ylim((-2, 2))\n",
    "  txt_title = ax.set_title('')\n",
    "  interval = len(keypoints_hist)//num_frames\n",
    "  def drawFrame(k):\n",
    "    k = interval*k\n",
    "    keypts = keypoints_hist[k]\n",
    "\n",
    "    x1 = keypts[0, 0]\n",
    "    x2 = keypts[1, 0]\n",
    "    y1 = keypts[0, 1]\n",
    "    y2 = keypts[1, 1]\n",
    "    link1.set_data([x1, x2], [y1, y2])\n",
    "    x1 = keypts[1, 0]\n",
    "    x2 = keypts[2, 0]\n",
    "    y1 = keypts[1, 1]\n",
    "    y2 = keypts[2, 1]\n",
    "    link2.set_data([x1, x2], [y1, y2])\n",
    "    x1 = keypts[2, 0]\n",
    "    x2 = keypts[3, 0]\n",
    "    y1 = keypts[2, 1]\n",
    "    y2 = keypts[3, 1]\n",
    "    link3.set_data([x1, x2], [y1, y2])\n",
    "    txt_title.set_text(f't = {dt*k:.2f} sec')\n",
    "    return link1, link2, link3\n",
    "  anim = animation.FuncAnimation(fig, drawFrame, frames=num_frames, interval=interval, blit=True)\n",
    "  return anim"
   ]
  },
  {
   "cell_type": "code",
   "execution_count": null,
   "metadata": {
    "colab": {
     "base_uri": "https://localhost:8080/",
     "height": 1000
    },
    "id": "MW31YnWCjM8L",
    "outputId": "f0dc1e3d-8f98-4aab-e99c-ce7f7ff7e494"
   },
   "outputs": [],
   "source": [
    "anim = visualize_arm(keypoints_hist, dt = dt, num_frames=200)\n",
    "plt.close()\n",
    "HTML(anim.to_html5_video())"
   ]
  },
  {
   "cell_type": "code",
   "execution_count": null,
   "metadata": {
    "colab": {
     "base_uri": "https://localhost:8080/",
     "height": 850
    },
    "id": "FbwZv6mZDVMp",
    "outputId": "65b5d07c-c9f7-4c1b-e485-074658a220ff"
   },
   "outputs": [],
   "source": [
    "# Plot Kinetic Energy, Potential Energy and Total Energy\n",
    "kinetic_energy_hist_np = np.array(kinetic_energy_hist)\n",
    "potential_energy_hist_np = np.array(potential_energy_hist)\n",
    "total_energy_hist_np = np.array(total_energy_hist).reshape(-1)\n",
    "ts = np.arange(0, tf-dt, dt)\n",
    "fig= plt.figure(figsize=(10,10))\n",
    "ax = plt.subplot(1,1,1)\n",
    "ax.plot(ts, kinetic_energy_hist_np, label='Kinetic Energy')\n",
    "ax.plot(ts, potential_energy_hist_np, label='Potential Energy')\n",
    "ax.plot(ts, total_energy_hist_np, label='Total Energy')\n",
    "ax.legend()\n",
    "ax.set_xlabel('t')\n",
    "plt.show()"
   ]
  },
  {
   "cell_type": "markdown",
   "metadata": {
    "id": "bLNUSbFygAXG"
   },
   "source": [
    "# **Q.7. [10 pts] Explain why the total energy of the arm changes over time.**\n",
    "Try different time steps other than 0.001 sec to show how the simulation accuracy differs total energy graph."
   ]
  },
  {
   "cell_type": "markdown",
   "metadata": {
    "id": "m7lAnLVdgtsH"
   },
   "source": [
    "Please add and compare at least two graphs here to show the differences."
   ]
  }
 ],
 "metadata": {
  "colab": {
   "provenance": [],
   "toc_visible": true
  },
  "kernelspec": {
   "display_name": "Python 3 (ipykernel)",
   "language": "python",
   "name": "python3"
  },
  "language_info": {
   "codemirror_mode": {
    "name": "ipython",
    "version": 3
   },
   "file_extension": ".py",
   "mimetype": "text/x-python",
   "name": "python",
   "nbconvert_exporter": "python",
   "pygments_lexer": "ipython3",
   "version": "3.8.13"
  }
 },
 "nbformat": 4,
 "nbformat_minor": 0
}
