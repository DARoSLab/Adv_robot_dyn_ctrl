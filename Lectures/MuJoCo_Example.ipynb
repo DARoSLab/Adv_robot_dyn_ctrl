{
  "cells": [
    {
      "cell_type": "markdown",
      "metadata": {
        "id": "view-in-github",
        "colab_type": "text"
      },
      "source": [
        "<a href=\"https://colab.research.google.com/github/DARoSLab/Adv_robot_dyn_ctrl/blob/main/Lectures/MuJoCo_Example.ipynb\" target=\"_parent\"><img src=\"https://colab.research.google.com/assets/colab-badge.svg\" alt=\"Open In Colab\"/></a>"
      ]
    },
    {
      "cell_type": "markdown",
      "metadata": {
        "id": "Jsecr7PeWYV0"
      },
      "source": [
        "\n",
        "**MuJoCo Example**\n"
      ]
    },
    {
      "cell_type": "code",
      "execution_count": null,
      "metadata": {
        "colab": {
          "base_uri": "https://localhost:8080/"
        },
        "collapsed": true,
        "id": "ZRa9yzH0WUDR",
        "outputId": "f1db8330-b9ce-413a-bb6c-8ffdac0964cf"
      },
      "outputs": [
        {
          "output_type": "stream",
          "name": "stdout",
          "text": [
            "Collecting mujoco\n",
            "  Downloading mujoco-3.2.4-cp310-cp310-manylinux_2_17_x86_64.manylinux2014_x86_64.whl.metadata (44 kB)\n",
            "\u001b[?25l     \u001b[90m━━━━━━━━━━━━━━━━━━━━━━━━━━━━━━━━━━━━━━━━\u001b[0m \u001b[32m0.0/44.4 kB\u001b[0m \u001b[31m?\u001b[0m eta \u001b[36m-:--:--\u001b[0m\r\u001b[2K     \u001b[91m━━━━━━━━━━━━━━━━━━━━━━━━━━━━━━━━━━━━\u001b[0m\u001b[91m╸\u001b[0m\u001b[90m━━━\u001b[0m \u001b[32m41.0/44.4 kB\u001b[0m \u001b[31m47.9 MB/s\u001b[0m eta \u001b[36m0:00:01\u001b[0m\r\u001b[2K     \u001b[90m━━━━━━━━━━━━━━━━━━━━━━━━━━━━━━━━━━━━━━━━\u001b[0m \u001b[32m44.4/44.4 kB\u001b[0m \u001b[31m593.8 kB/s\u001b[0m eta \u001b[36m0:00:00\u001b[0m\n",
            "\u001b[?25hRequirement already satisfied: absl-py in /usr/local/lib/python3.10/dist-packages (from mujoco) (1.4.0)\n",
            "Requirement already satisfied: etils[epath] in /usr/local/lib/python3.10/dist-packages (from mujoco) (1.10.0)\n",
            "Collecting glfw (from mujoco)\n",
            "  Downloading glfw-2.7.0-py2.py27.py3.py30.py31.py32.py33.py34.py35.py36.py37.py38-none-manylinux2014_x86_64.whl.metadata (5.4 kB)\n",
            "Requirement already satisfied: numpy in /usr/local/lib/python3.10/dist-packages (from mujoco) (1.26.4)\n",
            "Requirement already satisfied: pyopengl in /usr/local/lib/python3.10/dist-packages (from mujoco) (3.1.7)\n",
            "Requirement already satisfied: fsspec in /usr/local/lib/python3.10/dist-packages (from etils[epath]->mujoco) (2024.6.1)\n",
            "Requirement already satisfied: importlib_resources in /usr/local/lib/python3.10/dist-packages (from etils[epath]->mujoco) (6.4.5)\n",
            "Requirement already satisfied: typing_extensions in /usr/local/lib/python3.10/dist-packages (from etils[epath]->mujoco) (4.12.2)\n",
            "Requirement already satisfied: zipp in /usr/local/lib/python3.10/dist-packages (from etils[epath]->mujoco) (3.20.2)\n",
            "Downloading mujoco-3.2.4-cp310-cp310-manylinux_2_17_x86_64.manylinux2014_x86_64.whl (6.3 MB)\n",
            "\u001b[2K   \u001b[90m━━━━━━━━━━━━━━━━━━━━━━━━━━━━━━━━━━━━━━━━\u001b[0m \u001b[32m6.3/6.3 MB\u001b[0m \u001b[31m41.1 MB/s\u001b[0m eta \u001b[36m0:00:00\u001b[0m\n",
            "\u001b[?25hDownloading glfw-2.7.0-py2.py27.py3.py30.py31.py32.py33.py34.py35.py36.py37.py38-none-manylinux2014_x86_64.whl (211 kB)\n",
            "\u001b[2K   \u001b[90m━━━━━━━━━━━━━━━━━━━━━━━━━━━━━━━━━━━━━━━━\u001b[0m \u001b[32m211.8/211.8 kB\u001b[0m \u001b[31m13.9 MB/s\u001b[0m eta \u001b[36m0:00:00\u001b[0m\n",
            "\u001b[?25hInstalling collected packages: glfw, mujoco\n",
            "Successfully installed glfw-2.7.0 mujoco-3.2.4\n",
            "Collecting mujoco_mjx\n",
            "  Downloading mujoco_mjx-3.2.4-py3-none-any.whl.metadata (3.3 kB)\n",
            "Requirement already satisfied: absl-py in /usr/local/lib/python3.10/dist-packages (from mujoco_mjx) (1.4.0)\n",
            "Requirement already satisfied: etils[epath] in /usr/local/lib/python3.10/dist-packages (from mujoco_mjx) (1.10.0)\n",
            "Requirement already satisfied: jax in /usr/local/lib/python3.10/dist-packages (from mujoco_mjx) (0.4.33)\n",
            "Requirement already satisfied: jaxlib in /usr/local/lib/python3.10/dist-packages (from mujoco_mjx) (0.4.33)\n",
            "Requirement already satisfied: mujoco>=3.2.4.dev0 in /usr/local/lib/python3.10/dist-packages (from mujoco_mjx) (3.2.4)\n",
            "Requirement already satisfied: scipy in /usr/local/lib/python3.10/dist-packages (from mujoco_mjx) (1.13.1)\n",
            "Collecting trimesh (from mujoco_mjx)\n",
            "  Downloading trimesh-4.5.1-py3-none-any.whl.metadata (18 kB)\n",
            "Requirement already satisfied: glfw in /usr/local/lib/python3.10/dist-packages (from mujoco>=3.2.4.dev0->mujoco_mjx) (2.7.0)\n",
            "Requirement already satisfied: numpy in /usr/local/lib/python3.10/dist-packages (from mujoco>=3.2.4.dev0->mujoco_mjx) (1.26.4)\n",
            "Requirement already satisfied: pyopengl in /usr/local/lib/python3.10/dist-packages (from mujoco>=3.2.4.dev0->mujoco_mjx) (3.1.7)\n",
            "Requirement already satisfied: fsspec in /usr/local/lib/python3.10/dist-packages (from etils[epath]->mujoco_mjx) (2024.6.1)\n",
            "Requirement already satisfied: importlib_resources in /usr/local/lib/python3.10/dist-packages (from etils[epath]->mujoco_mjx) (6.4.5)\n",
            "Requirement already satisfied: typing_extensions in /usr/local/lib/python3.10/dist-packages (from etils[epath]->mujoco_mjx) (4.12.2)\n",
            "Requirement already satisfied: zipp in /usr/local/lib/python3.10/dist-packages (from etils[epath]->mujoco_mjx) (3.20.2)\n",
            "Requirement already satisfied: ml-dtypes>=0.2.0 in /usr/local/lib/python3.10/dist-packages (from jax->mujoco_mjx) (0.4.1)\n",
            "Requirement already satisfied: opt-einsum in /usr/local/lib/python3.10/dist-packages (from jax->mujoco_mjx) (3.4.0)\n",
            "Downloading mujoco_mjx-3.2.4-py3-none-any.whl (6.7 MB)\n",
            "\u001b[2K   \u001b[90m━━━━━━━━━━━━━━━━━━━━━━━━━━━━━━━━━━━━━━━━\u001b[0m \u001b[32m6.7/6.7 MB\u001b[0m \u001b[31m28.5 MB/s\u001b[0m eta \u001b[36m0:00:00\u001b[0m\n",
            "\u001b[?25hDownloading trimesh-4.5.1-py3-none-any.whl (703 kB)\n",
            "\u001b[2K   \u001b[90m━━━━━━━━━━━━━━━━━━━━━━━━━━━━━━━━━━━━━━━━\u001b[0m \u001b[32m703.7/703.7 kB\u001b[0m \u001b[31m28.8 MB/s\u001b[0m eta \u001b[36m0:00:00\u001b[0m\n",
            "\u001b[?25hInstalling collected packages: trimesh, mujoco_mjx\n",
            "Successfully installed mujoco_mjx-3.2.4 trimesh-4.5.1\n"
          ]
        }
      ],
      "source": [
        "!pip install mujoco\n",
        "!pip install mujoco_mjx"
      ]
    },
    {
      "cell_type": "code",
      "execution_count": null,
      "metadata": {
        "id": "q0lD5hbuLu_d"
      },
      "outputs": [],
      "source": [
        "# # Configure MuJoCo to use the EGL rendering backend (requires GPU)\n",
        "# print('Setting environment variable to use GPU rendering:')\n",
        "# %env MUJOCO_GL=egl\n",
        "\n",
        "# try:\n",
        "#   print('Checking that the installation succeeded:')\n",
        "#   import mujoco\n",
        "#   mujoco.MjModel.from_xml_string('<mujoco/>')\n",
        "# except Exception as e:\n",
        "#   raise e from RuntimeError(\n",
        "#       'Something went wrong during installation. Check the shell output above '\n",
        "#       'for more information.\\n'\n",
        "#       'If using a hosted Colab runtime, make sure you enable GPU acceleration '\n",
        "#       'by going to the Runtime menu and selecting \"Choose runtime type\".')\n",
        "\n",
        "# print('Installation successful.')\n",
        "\n",
        "# # Tell XLA to use Triton GEMM, this improves steps/sec by ~30% on some GPUs\n",
        "# xla_flags = os.environ.get('XLA_FLAGS', '')\n",
        "# xla_flags += ' --xla_gpu_triton_gemm_any=True'\n",
        "# os.environ['XLA_FLAGS'] = xla_flags\n"
      ]
    },
    {
      "cell_type": "code",
      "execution_count": null,
      "metadata": {
        "colab": {
          "base_uri": "https://localhost:8080/"
        },
        "id": "iQWqg7JQWX_l",
        "outputId": "872fd6bd-e2c0-4977-e051-90407b64da2c"
      },
      "outputs": [
        {
          "output_type": "stream",
          "name": "stdout",
          "text": [
            "Installing mediapy:\n",
            "\u001b[2K   \u001b[90m━━━━━━━━━━━━━━━━━━━━━━━━━━━━━━━━━━━━━━━━\u001b[0m \u001b[32m1.6/1.6 MB\u001b[0m \u001b[31m35.8 MB/s\u001b[0m eta \u001b[36m0:00:00\u001b[0m\n",
            "\u001b[?25h"
          ]
        }
      ],
      "source": [
        "#@title Import packages for plotting and creating graphics\n",
        "import time\n",
        "import itertools\n",
        "import numpy as np\n",
        "from typing import Callable, NamedTuple, Optional, Union, List\n",
        "\n",
        "# Graphics and plotting.\n",
        "print('Installing mediapy:')\n",
        "!command -v ffmpeg >/dev/null || (apt update && apt install -y ffmpeg)\n",
        "!pip install -q mediapy\n",
        "import mediapy as media\n",
        "import matplotlib.pyplot as plt\n",
        "\n",
        "# More legible printing from numpy.\n",
        "np.set_printoptions(precision=3, suppress=True, linewidth=100)"
      ]
    },
    {
      "cell_type": "code",
      "execution_count": null,
      "metadata": {
        "id": "K-dEMFYYK5uW"
      },
      "outputs": [],
      "source": [
        "import functools\n",
        "from IPython.display import HTML\n",
        "import mujoco\n",
        "from mujoco import mjx"
      ]
    },
    {
      "cell_type": "code",
      "execution_count": null,
      "metadata": {
        "colab": {
          "base_uri": "https://localhost:8080/"
        },
        "id": "JAhDDeydXoA1",
        "outputId": "fa3f7a39-e372-496a-ceb9-9c10412fb103"
      },
      "outputs": [
        {
          "output_type": "stream",
          "name": "stdout",
          "text": [
            "Cloning into 'Adv_robot_dyn_ctrl'...\n",
            "remote: Enumerating objects: 140, done.\u001b[K\n",
            "remote: Counting objects: 100% (140/140), done.\u001b[K\n",
            "remote: Compressing objects: 100% (128/128), done.\u001b[K\n",
            "remote: Total 140 (delta 48), reused 72 (delta 9), pack-reused 0 (from 0)\u001b[K\n",
            "Receiving objects: 100% (140/140), 9.69 MiB | 22.82 MiB/s, done.\n",
            "Resolving deltas: 100% (48/48), done.\n"
          ]
        }
      ],
      "source": [
        "!git clone https://github.com/DARoSLab/Adv_robot_dyn_ctrl"
      ]
    },
    {
      "cell_type": "code",
      "execution_count": null,
      "metadata": {
        "id": "beSYL1_LLBqT"
      },
      "outputs": [],
      "source": [
        "xml_MiniArm = \"\"\"\n",
        "<mujoco>\n",
        "  <asset>\n",
        "    <mesh name=\"arm_base\" file=\"/content/Adv_robot_dyn_ctrl/Meshes/RubatoArmMini/BaseLink.stl\" scale=\"10 10 10\"/>\n",
        "    <mesh name=\"column_link\" file=\"/content/Adv_robot_dyn_ctrl/Meshes/RubatoArmMini/ColumnLink.stl\" scale=\"10 10 10\"/>\n",
        "    <mesh name=\"shoulder_pitch\" file=\"/content/Adv_robot_dyn_ctrl/Meshes/RubatoArmMini/ShoulderPitch.stl\" scale=\"10 10 10\"/>\n",
        "    <mesh name=\"Arm1\" file=\"/content/Adv_robot_dyn_ctrl/Meshes/RubatoArmMini/ArmLink1.stl\" scale=\"10 10 10\"/>\n",
        "    <mesh name=\"Arm2\" file=\"/content/Adv_robot_dyn_ctrl/Meshes/RubatoArmMini/ArmLink2.stl\" scale=\"10 10 10\"/>\n",
        "    <mesh name=\"wrist_pitch\" file=\"/content/Adv_robot_dyn_ctrl/Meshes/RubatoArmMini/WristPitch.stl\" scale=\"10 10 10\"/>\n",
        "    <mesh name=\"EE_link\" file=\"/content/Adv_robot_dyn_ctrl/Meshes/RubatoArmMini/EE_Frame.stl\" scale=\"10 10 10\"/>\n",
        "    <texture type=\"skybox\" builtin=\"gradient\" rgb1=\".3 .5 .7\" rgb2=\"0 0 0\" width=\"32\" height=\"512\"/>\n",
        "    <texture name=\"body\" type=\"cube\" builtin=\"flat\" mark=\"cross\" width=\"128\" height=\"128\" rgb1=\"0.8 0.6 0.4\" rgb2=\"0.8 0.6 0.4\" markrgb=\"1 1 1\" random=\"0.01\"/>\n",
        "    <material name=\"body\" texture=\"body\" texuniform=\"true\" rgba=\"0.8 0.6 .4 1\"/>\n",
        "    <texture name=\"grid\" type=\"2d\" builtin=\"checker\" width=\"512\" height=\"512\" rgb1=\".1 .2 .3\" rgb2=\".2 .3 .4\"/>\n",
        "    <material name=\"grid\" texture=\"grid\" texrepeat=\"1 1\" texuniform=\"true\" reflectance=\".2\"/>\n",
        "    <material name=\"red_material\" rgba=\"1 0 0 1\"/>  # red\n",
        "    <material name=\"orange_material\" rgba=\"1 0.5 0 1\"/>  # orange\n",
        "    <material name=\"blue_material\" rgba=\"0 0 1 1\"/>  # blue\n",
        "    <material name=\"green_material\" rgba=\"0 1 0 1\"/>  # green\n",
        "    <material name=\"yellow_material\" rgba=\"1 1 0 1\"/>  # yellow\n",
        "    <material name=\"purple_material\" rgba=\"1 0 1 1\"/>  # purple\n",
        "    <material name=\"pink_material\" rgba=\"1 0.75 0.75 1\"/>  # pink\n",
        "    <material name=\"white_material\" rgba=\"1 1 1 1\"/>  # white\n",
        "  </asset>\n",
        "  <visual>\n",
        "    <global offwidth=\"700\" offheight=\"400\"/>  # Set the offscreen framebuffer height\n",
        "  </visual>\n",
        "  <worldbody>\n",
        "    <geom name=\"floor\" size=\"0 0 .05\" type=\"plane\" material=\"grid\" condim=\"3\"/>\n",
        "\n",
        "    <camera name=\"my_camera\" pos=\"1 0 1\" euler=\"30 0 0\"/>\n",
        "    <light name=\"top\" pos=\"0 0 1\"/>\n",
        "\n",
        "    <body name=\"base\" euler=\"0 0 0\">\n",
        "      <geom type=\"mesh\" contype=\"3\"  conaffinity=\"0\" group=\"1\" density=\"0\" mesh=\"arm_base\" />\n",
        "\n",
        "      <body name=\"colum_link\" pos=\"-0.06 0 0\">\n",
        "        <joint name=\"base_yaw\" type=\"hinge\" axis=\"0 0 1\" pos=\"0 0 0\"/>\n",
        "        <inertial pos=\"-0.031984 -1e-08 -0.0289441\" quat=\"0.655781 0.264506 0.264514 0.65576\" mass=\"2.428305\" diaginertia=\"0.00176331 0.00174734 0.000400822\"/>\n",
        "        <geom type=\"mesh\" contype=\"3\"  conaffinity=\"0\" group=\"1\" density=\"0\" mesh=\"column_link\" material=\"orange_material\"/>\n",
        "\n",
        "        <body name=\"shoulder_pitch\" pos=\"0 0 0.4\">\n",
        "          <joint name=\"shoulder_pitch\" type=\"hinge\" axis=\"0 1 0\" pos=\"0 0 0\"/>\n",
        "          <inertial pos=\"-0.031984 -1e-08 -0.0289441\" quat=\"0.655781 0.264506 0.264514 0.65576\" mass=\"1.428305\" diaginertia=\"0.00176331 0.00174734 0.000400822\"/>\n",
        "          <geom type=\"mesh\" contype=\"3\"  conaffinity=\"0\" group=\"1\" density=\"0\" mesh=\"shoulder_pitch\" material=\"blue_material\"/>\n",
        "\n",
        "          <body name=\"UpperArm\" pos=\"0 0 0\">\n",
        "            <joint name=\"shoulder_roll\" type=\"hinge\" axis=\"1 0 0\" pos=\"0 0 0\"/>\n",
        "            <inertial pos=\"-0.031984 -1e-08 -0.0289441\" quat=\"0.655781 0.264506 0.264514 0.65576\" mass=\"1.428305\" diaginertia=\"0.00176331 0.00174734 0.000400822\"/>\n",
        "            <geom type=\"mesh\" contype=\"3\"  conaffinity=\"0\" group=\"1\" density=\"0\" mesh=\"Arm1\" material=\"green_material\"/>\n",
        "\n",
        "            <body name=\"LowerArm\" pos=\"0.55 0 0\">\n",
        "              <joint name=\"elbow\" type=\"hinge\" axis=\"0 1 0\" pos=\"0 0 0\"/>\n",
        "              <inertial pos=\"-0.031984 -1e-08 -0.0289441\" quat=\"0.655781 0.264506 0.264514 0.65576\" mass=\"1.428305\" diaginertia=\"0.00176331 0.00174734 0.000400822\"/>\n",
        "              <geom type=\"mesh\" contype=\"3\"  conaffinity=\"0\" group=\"1\" density=\"0\" mesh=\"Arm2\" material=\"yellow_material\"/>\n",
        "\n",
        "              <body name=\"WristPitch\" pos=\"0.45 0 0\">\n",
        "                <joint name=\"wrist_pitch\" type=\"hinge\" axis=\"0 1 0\" pos=\"0 0 0\"/>\n",
        "                <inertial pos=\"-0.031984 -1e-08 -0.0289441\" quat=\"0.655781 0.264506 0.264514 0.65576\" mass=\"0.8\" diaginertia=\"0.00176331 0.00174734 0.000400822\"/>\n",
        "                <geom type=\"mesh\" contype=\"3\"  conaffinity=\"0\" group=\"1\" density=\"0\" mesh=\"wrist_pitch\" material=\"purple_material\"/>\n",
        "\n",
        "                <body name=\"EE_Frame\" pos=\"0.09 0 0\">\n",
        "                  <joint name=\"wrist_roll\" type=\"hinge\" axis=\"1 0 0\" pos=\"0 0 0\"/>\n",
        "                  <inertial pos=\"0.03 0 0\" quat=\"0.655781 0.264506 0.264514 0.65576\" mass=\"0.3\" diaginertia=\"0.00176331 0.00174734 0.000400822\"/>\n",
        "                  <geom type=\"mesh\" contype=\"3\"  conaffinity=\"0\" group=\"1\" density=\"0\" mesh=\"EE_link\" material=\"pink_material\"/>\n",
        "                </body>\n",
        "              </body>\n",
        "            </body>\n",
        "          </body>\n",
        "        </body>\n",
        "      </body>\n",
        "    </body>\n",
        "  </worldbody>\n",
        "<!-- Add actuators for the joints -->\n",
        "  <actuator>\n",
        "    <motor joint=\"base_yaw\" ctrlrange=\"-50 50\" gear=\"1\"/>\n",
        "    <motor joint=\"shoulder_pitch\" ctrlrange=\"-50 50\" gear=\"1\"/>\n",
        "    <motor joint=\"shoulder_roll\" ctrlrange=\"-50 50\" gear=\"1\"/>\n",
        "    <motor joint=\"elbow\" ctrlrange=\"-50 50\" gear=\"1\"/>\n",
        "    <motor joint=\"wrist_pitch\" ctrlrange=\"-20 20\" gear=\"1\"/>\n",
        "    <motor joint=\"wrist_roll\" ctrlrange=\"-20 20\" gear=\"1\"/>\n",
        "  </actuator>\n",
        "</mujoco>\n",
        "\"\"\"\n",
        "\n",
        "# Make model, data, and renderer\n",
        "mj_model = mujoco.MjModel.from_xml_string(xml_MiniArm)\n",
        "mj_data = mujoco.MjData(mj_model)\n",
        "renderer = mujoco.Renderer(mj_model, width=700, height=400)"
      ]
    },
    {
      "cell_type": "code",
      "execution_count": null,
      "metadata": {
        "colab": {
          "base_uri": "https://localhost:8080/"
        },
        "id": "U8anaH12OPP4",
        "outputId": "6bc80ac2-a957-48ce-cdcf-0335956f5b21"
      },
      "outputs": [
        {
          "output_type": "stream",
          "name": "stderr",
          "text": [
            "/usr/local/lib/python3.10/dist-packages/mujoco/mjx/_src/mesh.py:177: UserWarning: Mesh \"column_link\" has a coplanar face with more than 20 vertices. This may lead to performance issues and inaccuracies in collision detection. Consider decimating the mesh.\n",
            "  warnings.warn(\n",
            "/usr/local/lib/python3.10/dist-packages/mujoco/mjx/_src/mesh.py:177: UserWarning: Mesh \"shoulder_pitch\" has a coplanar face with more than 20 vertices. This may lead to performance issues and inaccuracies in collision detection. Consider decimating the mesh.\n",
            "  warnings.warn(\n",
            "/usr/local/lib/python3.10/dist-packages/mujoco/mjx/_src/mesh.py:177: UserWarning: Mesh \"Arm1\" has a coplanar face with more than 20 vertices. This may lead to performance issues and inaccuracies in collision detection. Consider decimating the mesh.\n",
            "  warnings.warn(\n",
            "/usr/local/lib/python3.10/dist-packages/mujoco/mjx/_src/mesh.py:177: UserWarning: Mesh \"Arm2\" has a coplanar face with more than 20 vertices. This may lead to performance issues and inaccuracies in collision detection. Consider decimating the mesh.\n",
            "  warnings.warn(\n",
            "/usr/local/lib/python3.10/dist-packages/mujoco/mjx/_src/mesh.py:177: UserWarning: Mesh \"wrist_pitch\" has a coplanar face with more than 20 vertices. This may lead to performance issues and inaccuracies in collision detection. Consider decimating the mesh.\n",
            "  warnings.warn(\n",
            "/usr/local/lib/python3.10/dist-packages/mujoco/mjx/_src/mesh.py:177: UserWarning: Mesh \"EE_link\" has a coplanar face with more than 20 vertices. This may lead to performance issues and inaccuracies in collision detection. Consider decimating the mesh.\n",
            "  warnings.warn(\n"
          ]
        },
        {
          "output_type": "stream",
          "name": "stdout",
          "text": [
            "[-0.    -0.955  0.     1.514 -0.999  0.019] <class 'numpy.ndarray'>\n",
            "[-0.    -0.955  0.     1.514 -0.999  0.019] <class 'jaxlib.xla_extension.ArrayImpl'> {CudaDevice(id=0)}\n"
          ]
        }
      ],
      "source": [
        "mjx_model = mjx.put_model(mj_model)\n",
        "mjx_data = mjx.put_data(mj_model, mj_data)\n",
        "print(mj_data.qpos, type(mj_data.qpos))\n",
        "print(mjx_data.qpos, type(mjx_data.qpos), mjx_data.qpos.devices())\n",
        "\n",
        "# enable joint visualization option:\n",
        "scene_option = mujoco.MjvOption()\n",
        "scene_option.flags[mujoco.mjtVisFlag.mjVIS_JOINT] = False\n",
        "\n",
        "duration = 4.0  # (seconds)\n",
        "framerate = 40  # (Hz)\n",
        "\n",
        "frames = []\n",
        "mujoco.mj_resetData(mj_model, mj_data)\n",
        "\n",
        "# Define PD controller gains\n",
        "kp = 250  # Proportional gain\n",
        "kd = 3.5  # Derivative gain\n",
        "desired_position = np.array([0.0, -1.0, 0.0, 1.5, -1.0, 0.0])  # Example desired position\n",
        "\n",
        "while mj_data.time < duration:# Calculate joint position error\n",
        "  position_error = desired_position - mj_data.qpos\n",
        "\n",
        "  # Calculate joint velocity\n",
        "  velocity = mj_data.qvel\n",
        "\n",
        "  # Calculate control signal\n",
        "  control_signal = kp * position_error - kd * velocity\n",
        "\n",
        "  # Apply control signal to joints\n",
        "  mj_data.ctrl = control_signal\n",
        "\n",
        "\n",
        "  mujoco.mj_step(mj_model, mj_data)\n",
        "  if len(frames) < mj_data.time * framerate:\n",
        "    # mj_data.cam_pos = np.array([1, 0, 1])  # Set camera position\n",
        "    # mj_data.cam_quat = np.array([1, 0, 0, 0])  # Set camera orientation\n",
        "    renderer.update_scene(mj_data, scene_option=scene_option)\n",
        "    # renderer.render(camera_id=0, camera_pos=[1, 0, 1], camera_quat=[1, 0, 0, 0])\n",
        "    pixels = renderer.render()\n",
        "    frames.append(pixels)\n",
        "\n",
        "# Simulate and display video.\n",
        "media.show_video(frames, fps=framerate)"
      ]
    }
  ],
  "metadata": {
    "accelerator": "GPU",
    "colab": {
      "gpuType": "T4",
      "provenance": [],
      "include_colab_link": true
    },
    "kernelspec": {
      "display_name": "Python 3",
      "name": "python3"
    },
    "language_info": {
      "name": "python"
    }
  },
  "nbformat": 4,
  "nbformat_minor": 0
}