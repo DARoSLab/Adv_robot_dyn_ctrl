{
  "nbformat": 4,
  "nbformat_minor": 0,
  "metadata": {
    "colab": {
      "provenance": [],
      "authorship_tag": "ABX9TyMMEqdRv+LkIgcaZxMj+eLq",
      "include_colab_link": true
    },
    "kernelspec": {
      "name": "python3",
      "display_name": "Python 3"
    },
    "language_info": {
      "name": "python"
    }
  },
  "cells": [
    {
      "cell_type": "markdown",
      "metadata": {
        "id": "view-in-github",
        "colab_type": "text"
      },
      "source": [
        "<a href=\"https://colab.research.google.com/github/DARoSLab/Adv_robot_dyn_ctrl/blob/main/Lectures/Lecture5_orientation_2.ipynb\" target=\"_parent\"><img src=\"https://colab.research.google.com/assets/colab-badge.svg\" alt=\"Open In Colab\"/></a>"
      ]
    },
    {
      "cell_type": "code",
      "execution_count": 5,
      "metadata": {
        "id": "ddXwem-jTvY5"
      },
      "outputs": [],
      "source": [
        "import numpy as np"
      ]
    },
    {
      "cell_type": "code",
      "source": [
        "# make 3 x 3 numpy matrix\n",
        "rot_45_x = np.array([[1, 0, 0],\n",
        "                     [0, np.cos(np.deg2rad(45)), -np.sin(np.deg2rad(45))],\n",
        "                     [0, np.sin(np.deg2rad(45)), np.cos(np.deg2rad(45))]])\n",
        "rot_30_y = np.array([[np.cos(np.deg2rad(30)), 0, np.sin(np.deg2rad(30))],\n",
        "                     [0, 1, 0],\n",
        "                     [-np.sin(np.deg2rad(30)), 0, np.cos(np.deg2rad(30))]])\n"
      ],
      "metadata": {
        "id": "LVM5JFoDTytF"
      },
      "execution_count": 11,
      "outputs": []
    },
    {
      "cell_type": "code",
      "source": [
        "print(rot_45_x)\n",
        "print(rot_30_y)"
      ],
      "metadata": {
        "colab": {
          "base_uri": "https://localhost:8080/"
        },
        "id": "eI4c0o6mUgY-",
        "outputId": "12100093-42ad-431c-df44-a159cdb1fa1a"
      },
      "execution_count": 12,
      "outputs": [
        {
          "output_type": "stream",
          "name": "stdout",
          "text": [
            "[[ 1.          0.          0.        ]\n",
            " [ 0.          0.70710678 -0.70710678]\n",
            " [ 0.          0.70710678  0.70710678]]\n",
            "[[ 0.8660254  0.         0.5      ]\n",
            " [ 0.         1.         0.       ]\n",
            " [-0.5        0.         0.8660254]]\n"
          ]
        }
      ]
    },
    {
      "cell_type": "code",
      "source": [
        "rot_mtx = rot_45_x @ rot_30_y\n",
        "print(rot_mtx)"
      ],
      "metadata": {
        "colab": {
          "base_uri": "https://localhost:8080/"
        },
        "id": "hGtTVwMxVBqu",
        "outputId": "a9509e7b-0413-4175-f07d-c7164bc6bb98"
      },
      "execution_count": 13,
      "outputs": [
        {
          "output_type": "stream",
          "name": "stdout",
          "text": [
            "[[ 0.8660254   0.          0.5       ]\n",
            " [ 0.35355339  0.70710678 -0.61237244]\n",
            " [-0.35355339  0.70710678  0.61237244]]\n"
          ]
        }
      ]
    }
  ]
}