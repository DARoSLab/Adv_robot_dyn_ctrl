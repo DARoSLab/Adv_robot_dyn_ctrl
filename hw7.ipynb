{
  "cells": [
    {
      "cell_type": "markdown",
      "metadata": {
        "id": "view-in-github"
      },
      "source": [
        "<a href=\"https://colab.research.google.com/github/DARoSLab/RoboticsCourse-Admin/blob/main/CS690K_2023_Fall/hw7_soln.ipynb\" target=\"_parent\"><img src=\"https://colab.research.google.com/assets/colab-badge.svg\" alt=\"Open In Colab\"/></a>"
      ]
    },
    {
      "cell_type": "markdown",
      "metadata": {
        "id": "IuqwDQx1WCFt"
      },
      "source": [
        "# **HW7. Contact Constraint Simulation**\n",
        "\n",
        "In this problem, you will extend the simulation of HW6 to address constraints. Your simulation will include a wall that will interact with the robot manipulator.\n",
        "\n",
        "$\\color{red}{\\text{Please do not use any other Python packages except the ones we give you.}}$\n",
        "\n",
        "\n",
        "<img src=\"https://github.com/DARoSLab/Adv_robot_dyn_ctrl/blob/main/Figures/3DoF_Arm_contact.png?raw=true\" height=\"400\">\n",
        "<img src=\"https://github.com/DARoSLab/Adv_robot_dyn_ctrl/blob/main/Figures/3DoF_Arm_Kinematics.png?raw=true\" height=\"400\">\n",
        "\n",
        "In the HW 7, we will use **<font color='orange'>operational-space controller</font>** implemented in HW6:\n",
        "\n",
        "\\begin{equation}\n",
        "\\Lambda(q)\\, \\ddot{\\mathbf r}_C + \\mu(q,\\dot{q}) + \\rho(q) = F,\n",
        "\\end{equation}\n",
        "\n",
        "where $\\Lambda(q)$ is the effective mass felt at the tip of arm, $\\mu(q,\\dot{q})$ gives the coriolis and centripetal forces on the tip, and $\\rho(q)$ gives the gravity force felt on the tip. Formula for these quantities are given below:\n",
        "\n",
        "\\begin{align}\n",
        "\\Lambda(q)&= (J M^{-1} J^{T})^{-1} \\\\\n",
        "\\mu(q,\\dot{q}) &= \\Lambda J M^{-1}\\, C - \\Lambda \\, \\dot{J}\\, \\dot{q}\\\\\n",
        "\\rho(q) &= \\Lambda J M^{-1}\\, G\n",
        "\\end{align}\n",
        "\n",
        "The final joint torque command calculation is done by the following equation:\n",
        "\n",
        "\\begin{equation}\n",
        "\\tau = J^{\\top} \\left[ \\Lambda \\left( \\ddot{\\mathbf r}_C^d + K ({\\mathbf r}_C^d - {\\mathbf r}_C) + D (\\dot{\\mathbf r}_C^d - \\dot{\\mathbf r}_C)\\right) + \\mu + \\rho \\right]\\,.\n",
        "\\end{equation}\n"
      ]
    },
    {
      "cell_type": "code",
      "execution_count": null,
      "metadata": {
        "colab": {
          "base_uri": "https://localhost:8080/"
        },
        "id": "kI138BjQFKeI",
        "outputId": "4fdfeb51-fbef-46f5-8ad8-10b79fa4edd5"
      },
      "outputs": [
        {
          "output_type": "stream",
          "name": "stdout",
          "text": [
            "Collecting dill\n",
            "  Downloading dill-0.3.9-py3-none-any.whl.metadata (10 kB)\n",
            "Downloading dill-0.3.9-py3-none-any.whl (119 kB)\n",
            "\u001b[2K   \u001b[90m━━━━━━━━━━━━━━━━━━━━━━━━━━━━━━━━━━━━━━━━\u001b[0m \u001b[32m119.4/119.4 kB\u001b[0m \u001b[31m6.6 MB/s\u001b[0m eta \u001b[36m0:00:00\u001b[0m\n",
            "\u001b[?25hInstalling collected packages: dill\n",
            "Successfully installed dill-0.3.9\n",
            "Cloning into 'Adv_robot_dyn_ctrl'...\n",
            "remote: Enumerating objects: 180, done.\u001b[K\n",
            "remote: Counting objects: 100% (180/180), done.\u001b[K\n",
            "remote: Compressing objects: 100% (168/168), done.\u001b[K\n",
            "remote: Total 180 (delta 71), reused 72 (delta 9), pack-reused 0 (from 0)\u001b[K\n",
            "Receiving objects: 100% (180/180), 10.73 MiB | 18.56 MiB/s, done.\n",
            "Resolving deltas: 100% (71/71), done.\n"
          ]
        }
      ],
      "source": [
        "# import useful libraries and clone class github\n",
        "import numpy as np\n",
        "from IPython.display import HTML\n",
        "import matplotlib.pyplot as plt\n",
        "import seaborn as sns\n",
        "from matplotlib import animation\n",
        "!pip install dill\n",
        "import dill\n",
        "import os\n",
        "!git clone https://github.com/DARoSLab/Adv_robot_dyn_ctrl\n",
        "func_path =  '/content/Adv_robot_dyn_ctrl/Functions/'\n",
        "\n",
        "%matplotlib inline\n"
      ]
    },
    {
      "cell_type": "code",
      "execution_count": null,
      "metadata": {
        "id": "S9-fjq3oNigZ"
      },
      "outputs": [],
      "source": [
        "from re import X\n",
        "# 3 dof arm visualization function: No need to change\n",
        "def visualize_arm(keypoints_hist, xee_des=None, dt = 0.001, num_frames=200, wall_pos=None):\n",
        "  fig= plt.figure(figsize=(10,10))\n",
        "  ax = plt.subplot(1,1,1)\n",
        "  ax.grid()\n",
        "  keypoints = keypoints_hist[0]\n",
        "  link1, = ax.plot([], [], 'r', lw=15, alpha=0.3)\n",
        "  link2, = ax.plot([], [], 'r', lw=15, alpha=0.3)\n",
        "  link3, = ax.plot([], [], 'r', lw=15, alpha=0.3)\n",
        "\n",
        "  if xee_des is not None:\n",
        "    target, = ax.plot(xee_des[:, 0], xee_des[:, 1], 'o', label='target')\n",
        "  if wall_pos is not None:\n",
        "    wall, = ax.plot([wall_pos-0.1, wall_pos-0.1], [-2, 2], lw=30, alpha=0.3, color='black')\n",
        "  txt_title = ax.set_title('')\n",
        "\n",
        "  ax.set_xlim(( -1.5, 1))\n",
        "  ax.set_ylim((-0.5, 2.0))\n",
        "  txt_title = ax.set_title('')\n",
        "  interval = len(keypoints_hist)//num_frames\n",
        "  def drawFrame(k):\n",
        "    k = interval*k\n",
        "    keypts = keypoints_hist[k]\n",
        "\n",
        "    x1 = keypts[0, 0]\n",
        "    x2 = keypts[1, 0]\n",
        "    y1 = keypts[0, 1]\n",
        "    y2 = keypts[1, 1]\n",
        "    link1.set_data([x1, x2], [y1, y2])\n",
        "    x1 = keypts[1, 0]\n",
        "    x2 = keypts[2, 0]\n",
        "    y1 = keypts[1, 1]\n",
        "    y2 = keypts[2, 1]\n",
        "    link2.set_data([x1, x2], [y1, y2])\n",
        "    x1 = keypts[2, 0]\n",
        "    x2 = keypts[3, 0]\n",
        "    y1 = keypts[2, 1]\n",
        "    y2 = keypts[3, 1]\n",
        "    link3.set_data([x1, x2], [y1, y2])\n",
        "    txt_title.set_text(f't = {dt*k:.2f} sec')\n",
        "    return link1, link2, link3\n",
        "  anim = animation.FuncAnimation(fig, drawFrame, frames=num_frames, interval=interval, blit=True)\n",
        "  return anim"
      ]
    },
    {
      "cell_type": "markdown",
      "metadata": {
        "id": "_17LJTEOXWVy"
      },
      "source": [
        "# Loading Helper Functions For Simulation"
      ]
    },
    {
      "cell_type": "code",
      "execution_count": null,
      "metadata": {
        "id": "IQbDggpIUySz"
      },
      "outputs": [],
      "source": [
        "# Loading helper functions: No need to change\n",
        "\n",
        "# A ddq + coriolis + grav = Q\n",
        "A_func = dill.load(open(func_path+\"A_func\", \"rb\")) # Mass matrix\n",
        "grav_func = dill.load(open(func_path+\"grav_func\", \"rb\")) # gravitational force vector\n",
        "coriolis_func = dill.load(open(func_path+\"coriolis_func\", \"rb\")) # coriolis and centri\n",
        "\n",
        "# End effector (r_D) position and velocity\n",
        "pD_func = dill.load(open(func_path+\"pD_func\", \"rb\"))\n",
        "vD_func = dill.load(open(func_path+\"vD_func\", \"rb\"))\n",
        "\n",
        "# End effector (r_D)'s Jacobian and time derivative of the Jacobian\n",
        "J_func = dill.load(open(func_path+\"J_func\", \"rb\"))\n",
        "Jdot_func = dill.load(open(func_path+\"Jdot_func\", \"rb\"))\n",
        "\n",
        "# key points: Matrix([[rO],[rB],[rC], [rD]]).reshape(4, 3)\n",
        "keypoints_func = dill.load(open(func_path+\"keypoints_func\", \"rb\"))\n",
        "\n",
        "# Kinetic energy, potential energy, and total energy\n",
        "kinetic_energy_func = dill.load(open(func_path+\"kinetic_energy_func\", \"rb\"))\n",
        "potential_energy_func = dill.load(open(func_path+\"potential_energy_func\", \"rb\"))\n",
        "E_func = dill.load(open(func_path+\"E_func\", \"rb\"))"
      ]
    },
    {
      "cell_type": "code",
      "execution_count": null,
      "metadata": {
        "id": "N3RL1r6XMbKH"
      },
      "outputs": [],
      "source": [
        "# parameters: No need to change\n",
        "m1_p = 1.5\n",
        "m2_p = 1.\n",
        "m3_p = 2.0\n",
        "l1_p = .6\n",
        "l2_p = .4\n",
        "l3_p = .5\n",
        "c1_p = .3\n",
        "c2_p = .2\n",
        "c3_p = .4\n",
        "I1_p = 0.05\n",
        "I2_p = 0.05\n",
        "I3_p = 0.09\n",
        "\n",
        "g_p  = 9.81\n",
        "params   = [l1_p, l2_p , l3_p, c1_p, c2_p, c3_p, m1_p, m2_p, m3_p, I1_p, I2_p, I3_p, g_p]"
      ]
    },
    {
      "cell_type": "code",
      "execution_count": null,
      "metadata": {
        "id": "tOln3FSJcvsR"
      },
      "outputs": [],
      "source": [
        "# Simulation parameters: No need to change\n",
        "dt = 0.001\n",
        "tf = 3.5\n",
        "num_step = int(np.floor(tf/dt))\n",
        "x0 = np.array([np.pi/2 - 0.1, 1.5, -0.9, 0, 0, 0]).T  # Initial configuration\n",
        "xC=-0.8 # Wall location\n",
        "\n",
        "# Circular desired trajectory: No need to change\n",
        "r0 = [-0.72, 0.9]\n",
        "r_circle = 0.3\n",
        "omega = 2*np.pi*0.5\n",
        "xee_des_circular = np.zeros((num_step, 9))\n",
        "\n",
        "for i in range(num_step):\n",
        "  t = i*dt\n",
        "  xee_des_circular[i, :] = np.array([r0[0] + r_circle*np.cos(omega*t), r0[1] + r_circle*np.sin(omega*t), 3*np.pi/4, # position\n",
        "                            -omega*r_circle*np.sin(omega*t), omega*r_circle*np.cos(omega*t), 0, # vel\n",
        "                            -omega*omega*r_circle*np.cos(omega*t), -omega*omega*r_circle*np.sin(omega*t), 0]) # acc"
      ]
    },
    {
      "cell_type": "code",
      "execution_count": null,
      "metadata": {
        "id": "T8VhDyIjMFix"
      },
      "outputs": [],
      "source": [
        "# Operational Space Controller (OSC): No need to change\n",
        "def OSC_controller(x, params, xee_des, Kp, Kd):\n",
        "  xp_params = list(x) + list(params)\n",
        "  J = J_func(*xp_params)\n",
        "  p_ee  = pD_func(*xp_params)\n",
        "  v_ee  = vD_func(*xp_params)\n",
        "\n",
        "  e = xee_des[:3] - p_ee.reshape(-1)\n",
        "  ed = xee_des[3:6] - v_ee.reshape(-1)\n",
        "\n",
        "  command  = (xee_des[6:] + Kp*e + Kd*ed).reshape(3,1)\n",
        "\n",
        "  M = A_func(*xp_params)\n",
        "  grav = grav_func(*xp_params)\n",
        "  coriolis = coriolis_func(*xp_params)\n",
        "  Jdot = Jdot_func(*xp_params)\n",
        "\n",
        "  M_inv = np.linalg.inv(M)\n",
        "  Lambda_inv = J@M_inv@J.T\n",
        "  Lambda = np.linalg.inv(Lambda_inv)\n",
        "\n",
        "  qdot = x[3:].reshape(3, 1)\n",
        "  mu = Lambda@J@M_inv@coriolis - Lambda@Jdot@qdot\n",
        "\n",
        "  rho = Lambda@J@M_inv@grav\n",
        "\n",
        "  F = Lambda@command + mu + rho\n",
        "\n",
        "  u = (J.T@F).reshape(-1).tolist()\n",
        "  return u"
      ]
    },
    {
      "cell_type": "markdown",
      "metadata": {
        "id": "M5t6zHN4mPgF"
      },
      "source": [
        "# **Q.1. Spring-damper based contact modeling**\n",
        "\n",
        "Implement a dynamics simulation including wall without friction (no contact force in the tangential direction of the wall) by using virtual spring-damper based algorithm."
      ]
    },
    {
      "cell_type": "markdown",
      "metadata": {
        "id": "db7G1sSJ4ovW"
      },
      "source": [
        "# **Q.1.(a) [20 pts] Simulation including a wall contact constraint**\n",
        "Complete the simulation program by adding your code computing proper $F_r$ (reaction force). Utilize the following equation:\n",
        "\n",
        "\\begin{equation}\n",
        "F_{r,x} = K (x_{\\rm wall} - x_{ee,x}) - D(\\dot{x}_{ee,x}),\n",
        "\\end{equation}\n",
        "where $K$ and $D$ are a virtual spring constant and a damping coefficient, respectively. $x_{ee,x}$ and $\\dot{x}_{ee,x}$ are the $x$ directional end effector position and velocity, respectively."
      ]
    },
    {
      "cell_type": "code",
      "execution_count": null,
      "metadata": {
        "id": "l-YQRpc2cBVx"
      },
      "outputs": [],
      "source": [
        "# Simulation with wall contact constraint\n",
        "def run_simulation_spring_damper_contact(x0, num_step, dt, xee_des_trj, ctrl_function, xC=0.8):\n",
        "  x_out = np.zeros((6,num_step))\n",
        "  x_out[:,0] = x0\n",
        "  ts = np.zeros(num_step)\n",
        "\n",
        "  keypoints_hist = []\n",
        "\n",
        "  for i in range(num_step-1):\n",
        "    xp_params = list(x_out[:, i]) + list(params)\n",
        "    keypoints_hist.append(keypoints_func(*xp_params))\n",
        "\n",
        "    u = ctrl_function(x_out[:, i], params, xee_des_trj[i])\n",
        "    Q = np.array(u).reshape(3,1) # Generalized force ([tau1, tau2, tau3])\n",
        "\n",
        "    A_dyn = A_func(*xp_params)\n",
        "    cori = coriolis_func(*xp_params)\n",
        "    grav = grav_func(*xp_params)\n",
        "\n",
        "    Fr = np.zeros([1,1]) # Reaction force to x (normal) direction\n",
        "    J = J_func(*xp_params)\n",
        "    Jx = J[0,:].reshape(1,3) # Jacobian conincide to the normal direction\n",
        "    # Write your code: Complete the code to compute Fr\n",
        "\n",
        "    # EE position and velocity\n",
        "\n",
        "\n",
        "    # Contact force calculation\n",
        "\n",
        "\n",
        "    # Semi-implicit Euler integration: No need to change\n",
        "    ddq = np.linalg.pinv(A_dyn)@(Q - cori - grav + Jx.T@Fr)\n",
        "    x_out[3:, i+1] = x_out[3:,i] + ddq.reshape(3)*dt\n",
        "    x_out[:3, i+1] = x_out[:3,i] + x_out[3:,i+1]*dt\n",
        "\n",
        "    ts[i+1] = ts[i] + dt\n",
        "\n",
        "  return ts, x_out, keypoints_hist"
      ]
    },
    {
      "cell_type": "code",
      "execution_count": null,
      "metadata": {
        "id": "evrhH6BjdEDr"
      },
      "outputs": [],
      "source": [
        "# Run simulation: No need to change\n",
        "ctrl_func = lambda x, params, xee_des: OSC_controller(x, params, xee_des, Kp = 200, Kd = 10)\n",
        "[ts, x_out_spring, key_pts_spring] = run_simulation_spring_damper_contact(x0, num_step, dt, xee_des_circular, ctrl_func, xC = xC)"
      ]
    },
    {
      "cell_type": "code",
      "execution_count": null,
      "metadata": {
        "id": "mRNcoQyGdiKQ"
      },
      "outputs": [],
      "source": [
        "# Animation: No need to change\n",
        "anim = visualize_arm(key_pts_spring, xee_des=xee_des_circular, dt = dt, num_frames=200, wall_pos=xC)\n",
        "plt.close()\n",
        "HTML(anim.to_html5_video())"
      ]
    },
    {
      "cell_type": "markdown",
      "metadata": {
        "id": "StgN-a_v5R8_"
      },
      "source": [
        "# **Q.1.(b) [10 pts] Plot and analyze the results**\n",
        "\n",
        "Complete the following code for trajectory plot. Explain your result based on the spring constant and damping coefficient. Note: Depending on spring and damping parameters, your result can be different from the solution. (Solution uses $K = 3000$ and $D = 10$)"
      ]
    },
    {
      "cell_type": "code",
      "execution_count": null,
      "metadata": {
        "id": "Vc4IHq4ngqEA"
      },
      "outputs": [],
      "source": [
        "# Plot x, y of the tip\n",
        "fig= plt.figure(figsize=(10,10))\n",
        "keypoints_spring = np.array(key_pts_spring)\n",
        "\n",
        "ax = plt.subplot(2,1,1)\n",
        "ax.plot([ts[0], ts[-1]], [xC, xC], 'k--', lw=4, label='contact x pos')\n",
        "# write your code to plot x_des and x_pos\n",
        "\n",
        "plt.legend()\n",
        "\n",
        "ax = plt.subplot(2,1,2)\n",
        "# write your code to plot y_des and y_pos\n",
        "\n",
        "\n",
        "plt.show()"
      ]
    },
    {
      "cell_type": "markdown",
      "metadata": {
        "id": "0w3P7B0x-KnL"
      },
      "source": [
        "# **Q.2. Discret impact based contact simulation (Projected Gauss-Seidel Method)**\n",
        "\n",
        "Complete skeleton the code for the function discrete_impact_contact and discuss the results.\n",
        "\n",
        "*Tip: Implement the normal directional contact first and then move on the tangential directional contact implementation."
      ]
    },
    {
      "cell_type": "code",
      "execution_count": null,
      "metadata": {
        "id": "6ab6Hp4FYbWQ"
      },
      "outputs": [],
      "source": [
        "# Dynamics: No need to change\n",
        "def dynamics(x, params, xee_des, control_func=None):\n",
        "  xp_params = list(x) + list(params)\n",
        "  u = control_func(x, params, xee_des)\n",
        "  Q = np.array(u).reshape(3,1) # Generalized force ([tau1, tau2, tau3])\n",
        "\n",
        "  A_dyn = A_func(*xp_params)\n",
        "  cori = coriolis_func(*xp_params)\n",
        "  grav = grav_func(*xp_params)\n",
        "\n",
        "  ddq = np.linalg.pinv(A_dyn)@(Q - cori - grav)\n",
        "\n",
        "  return ddq.reshape(3)"
      ]
    },
    {
      "cell_type": "code",
      "execution_count": null,
      "metadata": {
        "id": "077WWDFjVGX3"
      },
      "outputs": [],
      "source": [
        "# Simulation: No need to change\n",
        "def run_simulation(x0, num_step, dt, xee_des_trj, ctrl_function, restitution_coeff=0, friction_coeff=0.3, xC=0.8, q1_max=None):\n",
        "  x_out = np.zeros((6,num_step))\n",
        "  x_out[:,0] = x0\n",
        "  ts = np.zeros(num_step)\n",
        "\n",
        "  keypoints_hist = []\n",
        "  kinetic_energy_hist = []\n",
        "  potential_energy_hist = []\n",
        "  total_energy_hist = []\n",
        "\n",
        "  for i in range(num_step-1):\n",
        "    xp_params = list(x_out[:, i]) + list(params)\n",
        "    keypoints_hist.append(keypoints_func(*xp_params))\n",
        "    kinetic_energy_hist.append(kinetic_energy_func(*xp_params))\n",
        "    potential_energy_hist.append(potential_energy_func(*xp_params))\n",
        "    total_energy_hist.append(E_func(*xp_params))\n",
        "\n",
        "    ddq = dynamics(x_out[:,i], params, xee_des_trj[i], control_func = ctrl_function)\n",
        "    x_out[3:, i+1] = x_out[3:,i] + ddq*dt\n",
        "    x = np.zeros(6)\n",
        "    x[:3] = x_out[:3, i]\n",
        "    x[3:] = x_out[3:, i+1]\n",
        "\n",
        "    if q1_max is not None:\n",
        "      x_out[3:, i+1] = joint_limit_constraint(x, params, q1_max)\n",
        "    if xC is not None:\n",
        "      x_out[3:, i+1] = discrete_impact_contact(x, params, restitution_coeff, friction_coeff, xC)\n",
        "\n",
        "    x_out[:3, i+1] = x_out[:3,i] + x_out[3:,i+1]*dt\n",
        "\n",
        "    ts[i+1] = ts[i] + dt\n",
        "\n",
        "  return ts, x_out, keypoints_hist, kinetic_energy_hist, potential_energy_hist, total_energy_hist"
      ]
    },
    {
      "cell_type": "markdown",
      "metadata": {
        "id": "RdsdtEi8XW0A"
      },
      "source": [
        "# **Q.2.(a) [25 pts] Implement normal ($x$) directional contact constraint(see 2b code cell)**\n",
        "\n",
        "* Compute the position and velocity of the end-effector relative to the wall $C_x = x-x_c$ and $\\dot{C}_x$.\n",
        "\n",
        "* If the constraints are violated (i.e. $C_x<0$), compute the normal directional ($x$ direction in this problem) impulse force, $\\Delta\\hat{F}_{c, x} = \\Lambda_{c, x} (\\dot{C}_x^{ref} - J_{c, x} \\dot{q})$. Here, $\\Lambda_{c,x}$ is the normal directional operational space mass, $(J_{c,x} M^{-1} J_{c,x}^{\\top})^{-1}$ ($J_{c,x}$ is the normal directional Jacobian at the contact point). $\\dot{C}_x^{ref}$ is set by $-\\gamma \\dot{C}_x$ when $\\dot{C}_x<0$ ($\\gamma$ is the coefficient of restitution). Otherwise (when $C_x<0$ but $\\dot{C}_x >0$), just use the positive velocity as a reference ($\\dot{C}_x^{ref} = \\dot{C}_x$, if $\\dot{C}_x>0$).\n",
        "\n",
        "* Check whether the total reaction force ($\\hat{F}_{c,x}^{\\rm temp} = \\hat{F}_{c,x}^{\\rm prev} + \\Delta\\hat{F}_{c, x}$) is positive\n",
        "\n",
        "* If the sum is negative, update $\\Delta\\hat{F}_{c, x} = 0 - \\hat{F}_{c,x}^{\\rm prev}$.\n",
        "\n",
        "* Update $\\dot{q}$ using the equation, $\\dot{q} = \\dot{q} + M^{-1}J_{c,x}^{\\top} \\Delta\\hat{F}_{c,x}$.\n",
        "\n",
        "* Update $\\hat{F}_{c,x} = \\hat{F}_{c,x}^{prev} + \\Delta \\hat{F}_{c,x}$.\n",
        "\n",
        "* Iterate the process until it converges. (e.g., $\\Delta \\hat{F}_{c,x}$ becomes small)"
      ]
    },
    {
      "cell_type": "markdown",
      "metadata": {
        "id": "hXtvc564_jwx"
      },
      "source": [
        "# **Q.2.(b) [25 pts] Implement tangential ($y$) directional contact constraint**\n",
        "\n",
        "* Using the same procedure, update $\\dot{q}$ by applying tragential impulse force to satisfy a friction cone constraint. Compute the tangential ($y$ in this problem) impulse force, $\\Delta\\hat{F}_{c,y} = \\Lambda_{c,y} (0 - J_{c,y} \\dot{q})$.\n",
        "\n",
        "* Check whether the total tangential reaction force ($\\hat{F}_{c,y}^{\\rm temp} = \\hat{F}_{c,y}^{\\rm prev} + \\Delta\\hat{F}_{c, y}$) satisfies the friction cone constraint, $-\\mu \\hat{F}_{c,x} \\leq \\hat{F}_{c,y}^{\\rm temp} \\leq \\mu \\hat{F}_{c,x}$.\n",
        "\n",
        "* Truncate $\\hat{F}_{c,y}^{\\rm temp}$ if it is outside of friction cone and update $\\hat{F}_{c,y}$. Use the equation, $\\hat{F}_{c,y} = \\max \\left(-\\mu \\hat{F}_{c,x}, \\min(\\hat{F}_{c,y}^{\\rm temp}, \\mu \\hat{F}_{c,x} ) \\right)$.\n",
        "\n",
        "* Update $\\Delta \\hat{F}_{c,y} = \\hat{F}_{c,y} - \\hat{F}_{c,y}^{\\rm prev}$.\n",
        "\n",
        "* Update $\\dot{q}$ using the equation, $\\dot{q} = \\dot{q} + M^{-1}J_{c,y}^{\\top} \\Delta\\hat{F}_{c,y}$.\n",
        "\n",
        "* Iterate the process until it converges."
      ]
    },
    {
      "cell_type": "code",
      "execution_count": null,
      "metadata": {
        "id": "czbq6aHiBrVL"
      },
      "outputs": [],
      "source": [
        "def discrete_impact_contact(x, p, rest_coeff, fric_coeff, xC):\n",
        "    xp_params = list(x) + list(params)\n",
        "\n",
        "    x_test = x.copy()\n",
        "    qdot = x[3:].copy()\n",
        "\n",
        "    # EE position and velocity\n",
        "    rEE = pD_func(*xp_params)\n",
        "    vEE = vD_func(*xp_params)\n",
        "\n",
        "    if((rEE[0]-xC) < 0 ):\n",
        "      J  = J_func(*xp_params)\n",
        "      A = A_func(*xp_params)\n",
        "      Ainv = np.linalg.inv(A)\n",
        "\n",
        "      J_x = J[0, :]\n",
        "      J_y = J[1, :]\n",
        "      lambda_x = 1/(J_x @ Ainv @ J_x.T)\n",
        "      lambda_y = 1/(J_y @ Ainv @ J_y.T)\n",
        "\n",
        "      post_impact_vel = np.zeros([2,1])\n",
        "      post_impact_vel[0] = vEE[0]\n",
        "      if(vEE[0] < 0):\n",
        "        post_impact_vel[0] = -rest_coeff*vEE[0]\n",
        "\n",
        "      Fx_total = 0\n",
        "      Fy_total = 0\n",
        "      Fx_inc = 1000\n",
        "      Fy_inc = 1000\n",
        "\n",
        "      iter = 0\n",
        "\n",
        "      # Write your code: complete the Projected Gauss-Seidel method\n",
        "      while(np.abs(Fx_inc) > 1e-2 or np.abs(Fy_inc) > 1e-2):\n",
        "\n",
        "        # Write your code: horizontal (x) - Q2.(a)\n",
        "\n",
        "\n",
        "\n",
        "        # Write your code: vertical (y) - Q2.(b)\n",
        "\n",
        "\n",
        "\n",
        "        iter += 1\n",
        "        if(iter > 10):\n",
        "          break\n",
        "        # print(iter)\n",
        "\n",
        "    return qdot"
      ]
    },
    {
      "cell_type": "markdown",
      "metadata": {
        "id": "vuzit6JpcqKP"
      },
      "source": [
        "# **Q.2.(c)[20 pts] Run simulation using different friction coefficients**\n",
        "\n",
        "Use the coefficient of resitution $\\gamma = 0$, and test three different friction coefficients $\\mu = 0.5, 3, 15$. Provide position and velocity plots of $x$ and $y$. Analyze your results."
      ]
    },
    {
      "cell_type": "code",
      "execution_count": null,
      "metadata": {
        "id": "3At-fm5Zh-uu"
      },
      "outputs": [],
      "source": [
        "# Run simulation: No need to change\n",
        "ctrl_func = lambda x, params, xee_des: OSC_controller(x, params, xee_des, Kp = 200, Kd = 10)\n",
        "[ts, x_out_osc_1, key_pts_osc_1, _, _, _] = run_simulation(x0, num_step, dt, xee_des_circular, ctrl_func, 0.0, 0.5, xC, None)\n",
        "[ts, x_out_osc_2, key_pts_osc_2, _, _, _] = run_simulation(x0, num_step, dt, xee_des_circular, ctrl_func, 0.0, 3, xC, None)\n",
        "[ts, x_out_osc_3, key_pts_osc_3, _, _, _] = run_simulation(x0, num_step, dt, xee_des_circular, ctrl_func, 0.0, 15, xC, None)"
      ]
    },
    {
      "cell_type": "code",
      "execution_count": null,
      "metadata": {
        "id": "N-qC4zJ3fwFP"
      },
      "outputs": [],
      "source": [
        "fig= plt.figure(figsize=(10,10))\n",
        "keypoints_osc_1 = np.array(key_pts_osc_1)\n",
        "keypoints_osc_2 = np.array(key_pts_osc_2)\n",
        "keypoints_osc_3 = np.array(key_pts_osc_3)\n",
        "\n",
        "# Write your code: Plot x, y of the tip\n",
        "ax = plt.subplot(2,1,1)\n",
        "ax.plot([ts[0], ts[-1]], [xC, xC], 'k--', lw=4, label='contact x pos')\n",
        "\n",
        "# plot x_des and x_pos (mu=0.5, mu=3, mu=15)\n",
        "\n",
        "plt.legend()\n",
        "\n",
        "ax = plt.subplot(2,1,2)\n",
        "\n",
        "# plot y_des and y_pos (mu=0.5, mu=3, mu=15)\n",
        "\n",
        "plt.legend()\n",
        "\n",
        "plt.show()"
      ]
    },
    {
      "cell_type": "code",
      "execution_count": null,
      "metadata": {
        "id": "6gEuNbVGIvku"
      },
      "outputs": [],
      "source": [
        "# Animation: No need to change\n",
        "anim = visualize_arm(key_pts_osc_1, xee_des=xee_des_circular, dt = dt, num_frames=200, wall_pos=xC)\n",
        "plt.close()\n",
        "HTML(anim.to_html5_video())"
      ]
    },
    {
      "cell_type": "code",
      "execution_count": null,
      "metadata": {
        "id": "o2qToPxBqX7M"
      },
      "outputs": [],
      "source": [
        "# Animation: No need to change\n",
        "anim = visualize_arm(key_pts_osc_3, xee_des=xee_des_circular, dt = dt, num_frames=200, wall_pos=xC)\n",
        "plt.close()\n",
        "HTML(anim.to_html5_video())"
      ]
    },
    {
      "cell_type": "markdown",
      "metadata": {
        "id": "hOSLF0PyN1V1"
      },
      "source": [
        "# **(Optional) [20 pts] Joint limit constrain**\n",
        "\n",
        "The method for enforcing constraints is general to cases beyond contact with the ground. For instance, in reality, this mechanism has a kinematic joint limit that constrains $q_1$. In your code, implement a joint limit constraint to enforce $q_1 < \\frac{\\pi}{2}$ rad and plot $q_{1, 2, 3}$ over time with the joint constraint."
      ]
    },
    {
      "cell_type": "code",
      "execution_count": null,
      "metadata": {
        "id": "DfPitN-cOFG_"
      },
      "outputs": [],
      "source": [
        "def joint_limit_constraint(x,params, q1_max):\n",
        "    xp_params = list(x) + list(params)\n",
        "    C = x[0] - q1_max #C gives distance away from constraint\n",
        "    dC= x[3]\n",
        "    qdot = x[3:].copy()\n",
        "    J = np.array([1, 0, 0])\n",
        "\n",
        "    A = A_func(*xp_params)\n",
        "    Ainv = np.linalg.inv(A)\n",
        "    if C > 0 :\n",
        "        # write your code to check if constraint is violated\n",
        "\n",
        "\n",
        "\n",
        "        # print(qdot)\n",
        "\n",
        "    return qdot"
      ]
    },
    {
      "cell_type": "code",
      "execution_count": null,
      "metadata": {
        "id": "juUdl0v0OSbh"
      },
      "outputs": [],
      "source": [
        "# Run simulation: No need to change\n",
        "q1_max = np.pi/2\n",
        "ctrl_func = lambda x, params, xee_des: OSC_controller(x, params, xee_des, Kp = 50, Kd = 10)\n",
        "[ts, x_out_osc_jlim, key_pts_osc_jlim, _, _, _] = run_simulation(x0, num_step, dt, xee_des_circular, ctrl_func, 0, 0, xC=None, q1_max=q1_max)"
      ]
    },
    {
      "cell_type": "code",
      "execution_count": null,
      "metadata": {
        "id": "AhG2KZqFOU4T"
      },
      "outputs": [],
      "source": [
        "f, axs = plt.subplots(1, 2, figsize=(20,10))\n",
        "for i in range(3):\n",
        "  axs[0].plot(ts, x_out_osc_jlim[i, :], label=f'q{i+1}')\n",
        "  axs[1].plot(ts, x_out_osc_jlim[3+i, :], label=f'v{i+1}')\n",
        "axs[0].plot([ts[0], ts[-1]], [q1_max, q1_max], lw=6, label='q1_max')\n",
        "axs[0].legend()\n",
        "axs[1].legend()\n",
        "\n",
        "plt.show()"
      ]
    },
    {
      "cell_type": "code",
      "execution_count": null,
      "metadata": {
        "id": "pHg1NxNIPENG"
      },
      "outputs": [],
      "source": [
        "# Animation\n",
        "anim = visualize_arm(key_pts_osc_jlim, xee_des=xee_des_circular, dt = dt, num_frames=200, wall_pos=None)\n",
        "plt.close()\n",
        "HTML(anim.to_html5_video())"
      ]
    }
  ],
  "metadata": {
    "colab": {
      "provenance": [],
      "toc_visible": true
    },
    "kernelspec": {
      "display_name": "Python 3 (ipykernel)",
      "language": "python",
      "name": "python3"
    },
    "language_info": {
      "codemirror_mode": {
        "name": "ipython",
        "version": 3
      },
      "file_extension": ".py",
      "mimetype": "text/x-python",
      "name": "python",
      "nbconvert_exporter": "python",
      "pygments_lexer": "ipython3",
      "version": "3.8.13"
    }
  },
  "nbformat": 4,
  "nbformat_minor": 0
}