{
 "cells": [
  {
   "cell_type": "markdown",
   "id": "view-in-github",
   "metadata": {
    "id": "view-in-github"
   },
   "source": [
    "<a href=\"https://colab.research.google.com/github/DARoSLab/Adv_robot_dyn_ctrl/blob/main/hw4.ipynb\" target=\"_parent\"><img src=\"https://colab.research.google.com/assets/colab-badge.svg\" alt=\"Open In Colab\"/></a>"
   ]
  },
  {
   "cell_type": "markdown",
   "id": "vsZX1nWw3o71",
   "metadata": {
    "id": "vsZX1nWw3o71"
   },
   "source": [
    "# Homework 4. Physics Simulation\n",
    "\n",
    "\n",
    "$\\color{red}{\\text{Please do not use any other Python packages except the ones we give you.}}$\n"
   ]
  },
  {
   "cell_type": "code",
   "execution_count": null,
   "id": "pLtIbRYwQjDK",
   "metadata": {
    "id": "pLtIbRYwQjDK"
   },
   "outputs": [],
   "source": [
    "import numpy as np\n",
    "import matplotlib.pyplot as plt\n",
    "import math\n",
    "import time\n",
    "import seaborn as sns\n",
    "from matplotlib import animation\n",
    "from IPython.display import HTML\n",
    "%matplotlib inline"
   ]
  },
  {
   "cell_type": "markdown",
   "id": "axI77gwp30z9",
   "metadata": {
    "id": "axI77gwp30z9"
   },
   "source": [
    "# Q.1 [20 pts] **Ball Bouncing Simulation**\n",
    "<img src=\"https://github.com/DARoSLab/Adv_robot_dyn_ctrl/blob/main/Figures/bouncing_ball.png?raw=true\" width=\"400\">\n"
   ]
  },
  {
   "cell_type": "markdown",
   "id": "b78b87d8",
   "metadata": {},
   "source": [
    "## **Q.1 (a) [8pts] Make a simulation of the a bouncing ball with the following characterstics.**\n",
    "\\begin{align}\n",
    "m &=1kg, p_0=(0, 1.5), v_0=(0.3, -0.1), \\gamma=0.8,\n",
    "\\end{align}\n",
    "where $p_0$ and $v_0$ are the initial position and velocity, respectively. $\\gamma$ is the coefficient of resititution of the ball. Use $\\Delta t=0.001$ sec and simulate the bouncing ball during 3 sec. (Note: No frictional loss)"
   ]
  },
  {
   "cell_type": "code",
   "execution_count": null,
   "id": "REsBsiay5Yyt",
   "metadata": {
    "id": "REsBsiay5Yyt"
   },
   "outputs": [],
   "source": [
    "def simulate_ball(mass, coeff_rest, init_pos, init_vel, delta_t, N=3000):\n",
    "  g = -9.8\n",
    "  p_hist = np.zeros((N, 2))\n",
    "  v_hist = np.zeros((N, 2))\n",
    "  t_hist = np.zeros(N)\n",
    "  p_hist[0, :] = init_pos\n",
    "  v_hist[0, :] = init_vel\n",
    "  for i in range(1, N):\n",
    "      # Fill your code: Add velocity update with acceleration\n",
    "\n",
    "      if p_hist[i-1, 1]<=0 and v_hist[i, 1]<0:\n",
    "         # Fill your code: Sudden velocity change when the ball hits the ground\n",
    "\n",
    "\n",
    "      # Fill your code: Update ball position\n",
    "\n",
    "\n",
    "      t_hist[i] = i*delta_t;\n",
    "  return p_hist, v_hist, t_hist"
   ]
  },
  {
   "cell_type": "code",
   "execution_count": null,
   "id": "DNbxIo1O5x1y",
   "metadata": {
    "id": "DNbxIo1O5x1y"
   },
   "outputs": [],
   "source": [
    "# Fill your code: set up proper parameters and initial state to call the 'simulate_ball' function\n",
    "\n",
    "\n",
    "[p_hist, v_hist, t_hist] = simulate_ball(mass, coeff_rest, init_pos, init_vel, delta_t, N)"
   ]
  },
  {
   "cell_type": "code",
   "execution_count": null,
   "id": "2PrCERjOE3IB",
   "metadata": {
    "id": "2PrCERjOE3IB"
   },
   "outputs": [],
   "source": [
    "# Bouncing ball visualization: No need to change\n",
    "def plot_bouncingball(p_history, t_history, num_frames= 100):\n",
    "  fig= plt.figure(figsize=(10,10))\n",
    "  ax = plt.subplot(1,1,1)\n",
    "  wall1, = ax.plot([-2, 2], [0, 0], 'b', lw=1)\n",
    "  ball, = ax.plot([0], [0], 'ro', markersize=12)\n",
    "\n",
    "  txt_title = ax.set_title('')\n",
    "\n",
    "  ax.set_xlim(( -1.5, 1.5))\n",
    "  ax.set_ylim((-0.5, 2.5))\n",
    "  txt_title = ax.set_title('')\n",
    "  interval = len(p_history)//num_frames\n",
    "  def drawFrame(k):\n",
    "    k = interval*k\n",
    "    p0 = p_history[k]\n",
    "\n",
    "    ball.set_data([p0[0]], [p0[1]])\n",
    "    txt_title.set_text('t = {:.2f} sec'.format(t_history[k]))\n",
    "    return ball,\n",
    "  anim = animation.FuncAnimation(fig, drawFrame, frames=num_frames, interval=interval, blit=True)\n",
    "  return anim"
   ]
  },
  {
   "cell_type": "code",
   "execution_count": null,
   "id": "Crp2qOcVJpfJ",
   "metadata": {
    "id": "Crp2qOcVJpfJ"
   },
   "outputs": [],
   "source": [
    "# Animation code (No need to change)\n",
    "anim = plot_bouncingball(p_hist, t_hist, num_frames= 100)\n",
    "plt.close()\n",
    "HTML(anim.to_html5_video())\n",
    "\n",
    "writervideo = animation.FFMpegWriter(fps=60)\n",
    "anim.save('ballbounding.mp4', writer=writervideo)"
   ]
  },
  {
   "cell_type": "code",
   "execution_count": null,
   "id": "503e62bd",
   "metadata": {
    "id": "503e62bd"
   },
   "outputs": [],
   "source": [
    "plt.plot(p_hist[:, 0], p_hist[:, 1])\n",
    "plt.show()"
   ]
  },
  {
   "cell_type": "markdown",
   "id": "NdZ5nYYK72e8",
   "metadata": {
    "id": "NdZ5nYYK72e8"
   },
   "source": [
    "##Q.1(b) [5 pts] **What is the position and velocity of the ball after 2 sec ?**"
   ]
  },
  {
   "cell_type": "code",
   "execution_count": null,
   "id": "vpRrgp888Dvt",
   "metadata": {
    "id": "vpRrgp888Dvt"
   },
   "outputs": [],
   "source": [
    "# Fill your code: Print the position and velocity at 2 sec\n",
    "\n",
    "\n",
    "print(\"pos: {}, vel: {} \".format(p_hist[two_sec_idx], v_hist[two_sec_idx]))"
   ]
  },
  {
   "cell_type": "markdown",
   "id": "_Dq0pjMH8pZm",
   "metadata": {
    "id": "_Dq0pjMH8pZm"
   },
   "source": [
    "##Q.1(c) [5 pts] **What is the position and velocity of the ball after 2 sec when you use $\\Delta_t=0.01$? Explain why the values are different from the result of (a). Put your answers in the following text box.**"
   ]
  },
  {
   "cell_type": "code",
   "execution_count": null,
   "id": "H-7nKiIPFwFC",
   "metadata": {
    "id": "H-7nKiIPFwFC"
   },
   "outputs": [],
   "source": [
    "# Fill your code: Simulate the bouncing ball again with new delta t\n",
    "\n",
    "[p_hist_2, v_hist_2, t_hist_2] = simulate_ball(mass, coeff_rest, init_pos, init_vel, delta_t_2, N = 300)\n",
    "\n",
    "# Fill your code: Print the position and velocity at 2 sec\n",
    "\n",
    "print(\"pos: {}, vel: {} \".format(p_hist_2[two_sec_idx], v_hist_2[two_sec_idx]))"
   ]
  },
  {
   "cell_type": "code",
   "execution_count": null,
   "id": "PQxwKRceNxwQ",
   "metadata": {
    "id": "PQxwKRceNxwQ"
   },
   "outputs": [],
   "source": [
    "plt.plot(p_hist_2[:, 0], p_hist_2[:, 1])\n",
    "plt.plot(p_hist[:, 0], p_hist[:, 1])\n",
    "plt.show()"
   ]
  },
  {
   "cell_type": "markdown",
   "id": "Ff0H6aocP9MC",
   "metadata": {
    "id": "Ff0H6aocP9MC"
   },
   "source": [
    "## Q.1 (c) Put your explanation here:"
   ]
  },
  {
   "cell_type": "markdown",
   "id": "RoZvm-N2-bZq",
   "metadata": {
    "id": "RoZvm-N2-bZq"
   },
   "source": [
    "# Q.2 [40 pts] **Pinball Simulation**\n",
    "<img src=\"https://github.com/DARoSLab/Adv_robot_dyn_ctrl/blob/main/Figures/pinball.png?raw=true\" width=\"500\">"
   ]
  },
  {
   "cell_type": "code",
   "execution_count": null,
   "id": "vmZ6deCer8kt",
   "metadata": {
    "id": "vmZ6deCer8kt"
   },
   "outputs": [],
   "source": [
    "# Wall definition code: No need to change\n",
    "wall1 = np.array([[0, 0], [0, 2]])\n",
    "wall1_norm = [1, 0]\n",
    "wall1_tan = [0, 1]\n",
    "\n",
    "wall2 = np.array([[0, 2], [1, 2]])\n",
    "wall2_norm = [0, -1]\n",
    "wall2_tan = [1, 0]\n",
    "\n",
    "\n",
    "wall3 = np.array([[1, 2], [1, 1]])\n",
    "wall3_norm = [-1, 0]\n",
    "wall3_tan = [0, 1]\n",
    "\n",
    "wall4 = np.array([[1, 1], [0, 0]])\n",
    "wall4_norm = [-1/np.sqrt(2), 1/np.sqrt(2)]\n",
    "wall4_tan = [1/np.sqrt(2), 1/np.sqrt(2)]\n",
    "\n",
    "walls = [wall1, wall2, wall3, wall4]\n",
    "wall_norms = [wall1_norm, wall2_norm, wall3_norm, wall4_norm]\n",
    "wall_tan = [wall1_tan, wall2_tan, wall3_tan, wall4_tan]"
   ]
  },
  {
   "cell_type": "markdown",
   "id": "xVL_UWqsEY3O",
   "metadata": {
    "id": "xVL_UWqsEY3O"
   },
   "source": [
    "## Q.2 (a) [20 pts] Simulate the pin ball motion. Assume the radius of the ball is approximately zero and no frictional loss. Use coefficient of restitution, $\\gamma$ = 0.9, initial pos: [0.5, 1.0], and initial velocity: [1.5, 0.5]. Simulate over 5 sec."
   ]
  },
  {
   "cell_type": "code",
   "execution_count": null,
   "id": "ZAVzt_nJfD08",
   "metadata": {
    "id": "ZAVzt_nJfD08"
   },
   "outputs": [],
   "source": [
    "# Collision checking code: No need to change\n",
    "def point_line_distance(point, line):\n",
    "  distance = np.linalg.norm(np.cross(line[0]-point, line[1]-point))/np.linalg.norm(line[1]-line[0])\n",
    "  return distance\n",
    "\n",
    "def detect_collsion(pos, walls, threshold=0.001):\n",
    "  dlist = []\n",
    "  collision_idx = None\n",
    "  for i, wall in enumerate(walls):\n",
    "    d = point_line_distance(pos, wall)\n",
    "    dlist.append(d)\n",
    "    if d<=threshold:\n",
    "      collision_idx = i\n",
    "  return collision_idx"
   ]
  },
  {
   "cell_type": "code",
   "execution_count": null,
   "id": "CtSVYo08EWIP",
   "metadata": {
    "id": "CtSVYo08EWIP"
   },
   "outputs": [],
   "source": [
    "# Simulate Pinball\n",
    "def simulate_pinball(coeff_rest, init_pos, init_vel, delta_t, walls, wall_norms, wall_tan, N=3000):\n",
    "  p_hist = np.zeros((N, 2))\n",
    "  v_hist = np.zeros((N, 2))\n",
    "  t_hist = np.zeros(N)\n",
    "\n",
    "  p_hist[0, :] = init_pos\n",
    "  v_hist[0, :] = init_vel\n",
    "  t_hist[0] = 0\n",
    "  for i in range(1, N):\n",
    "      v_hist[i, :] = v_hist[i-1, :];\n",
    "\n",
    "      # Fill your code: Check collision and update velocity\n",
    "      closest_wall_idx =\n",
    "\n",
    "\n",
    "\n",
    "\n",
    "      p_hist[i, :] = p_hist[i-1, :] + v_hist[i, :]*delta_t;\n",
    "      t_hist[i] = i*delta_t\n",
    "  return p_hist, v_hist, t_hist"
   ]
  },
  {
   "cell_type": "code",
   "execution_count": null,
   "id": "xMHPg7j_Iv0e",
   "metadata": {
    "id": "xMHPg7j_Iv0e"
   },
   "outputs": [],
   "source": [
    "# Fill your code: Simulate pinball\n",
    "dt_pinball = 0.001\n",
    "\n",
    "\n",
    "[p_hist_pinball, v_hist_pinball, t_hist_pinball] = simulate_pinball(coeff_rest, init_pos, init_vel, dt_pinball, walls, wall_norms, wall_tan, N_pinball)"
   ]
  },
  {
   "cell_type": "code",
   "execution_count": null,
   "id": "rORkVmMKnRZp",
   "metadata": {
    "id": "rORkVmMKnRZp"
   },
   "outputs": [],
   "source": [
    "# Visualize Pinball Matplotlib: No need to change\n",
    "def plot_pinball(q, ts, walls, num_frames= 100):\n",
    "  fig= plt.figure(figsize=(10,10))\n",
    "  ax = plt.subplot(1,1,1)\n",
    "  # m, c, l, g, mu, dt = params\n",
    "  wall1, = ax.plot([walls[0][0][0], walls[0][1][0]], [walls[0][0][1], walls[0][1][1]], 'b', lw=1)\n",
    "  wall2, = ax.plot([walls[1][0][0], walls[1][1][0]], [walls[1][0][1], walls[1][1][1]], 'b', lw=1)\n",
    "  wall3, = ax.plot([walls[2][0][0], walls[2][1][0]], [walls[2][0][1], walls[2][1][1]], 'b', lw=1)\n",
    "  wall4, = ax.plot([walls[3][0][0], walls[3][1][0]], [walls[3][0][1], walls[3][1][1]], 'b', lw=1)\n",
    "  ball, = ax.plot([0], [0], 'ro', markersize=12)\n",
    "\n",
    "  txt_title = ax.set_title('')\n",
    "\n",
    "  ax.set_xlim(( -1, 2))\n",
    "  ax.set_ylim((-0.5, 2.5))\n",
    "  txt_title = ax.set_title('')\n",
    "  interval = len(q)//num_frames\n",
    "  def drawFrame(k):\n",
    "    k = interval*k\n",
    "    q0 = q[k]\n",
    "    ball.set_data([q0[0]], [q0[1]])\n",
    "    txt_title.set_text('t = {:.2f} sec'.format(ts[k]))\n",
    "    return ball,\n",
    "  anim = animation.FuncAnimation(fig, drawFrame, frames=num_frames, interval=interval, blit=True)\n",
    "  return anim"
   ]
  },
  {
   "cell_type": "code",
   "execution_count": null,
   "id": "tlmI9AwlLcvk",
   "metadata": {
    "id": "tlmI9AwlLcvk"
   },
   "outputs": [],
   "source": [
    "anim = plot_pinball(p_hist_pinball, t_hist_pinball, walls, num_frames= 100)\n",
    "plt.close()\n",
    "HTML(anim.to_html5_video())\n",
    "\n",
    "# writervideo = animation.FFMpegWriter(fps=60)\n",
    "# anim.save('pinball.mp4', writer=writervideo)"
   ]
  },
  {
   "cell_type": "markdown",
   "id": "MI2pietiaCwm",
   "metadata": {
    "id": "MI2pietiaCwm"
   },
   "source": [
    "## Q.2.(b) [10 pts] **What is the position and velocity of the ball after 1, 2, 3 sec ?**\n"
   ]
  },
  {
   "cell_type": "code",
   "execution_count": null,
   "id": "sA11aMzNZX7s",
   "metadata": {
    "id": "sA11aMzNZX7s"
   },
   "outputs": [],
   "source": [
    "# Fill your code: Print the position and velocity of the ball @ 1, 2, 3 sec\n",
    "\n",
    "\n",
    "print(\"1 sec pos: {}, vel: {} \".format(p_hist_pinball[one_sec_idx], v_hist_pinball[one_sec_idx]))\n",
    "print(\"2 sec pos: {}, vel: {} \".format(p_hist_pinball[two_sec_idx], v_hist_pinball[two_sec_idx]))\n",
    "print(\"3 sec pos: {}, vel: {} \".format(p_hist_pinball[three_sec_idx], v_hist_pinball[three_sec_idx]))"
   ]
  },
  {
   "cell_type": "markdown",
   "id": "Y2wLgG0nbWms",
   "metadata": {
    "id": "Y2wLgG0nbWms"
   },
   "source": [
    "## Q.2.(c) [10 pts] **Plot the kinetic energy of the ball and explain how the ball losese its energy based on the plot**"
   ]
  },
  {
   "cell_type": "code",
   "execution_count": null,
   "id": "iXUz7MTwbWRW",
   "metadata": {
    "id": "iXUz7MTwbWRW"
   },
   "outputs": [],
   "source": [
    "kin_energy = np.zeros(N_pinball)\n",
    "\n",
    "# Fill your code: Compute kinetic energy of the ball and plot\n",
    "\n",
    "\n",
    "plt.plot(t_hist_pinball, kin_energy)\n",
    "plt.show()"
   ]
  },
  {
   "cell_type": "markdown",
   "id": "wF2A6TNKdFjH",
   "metadata": {
    "id": "wF2A6TNKdFjH"
   },
   "source": [
    "## Q.2 (c) Put your explanation here:"
   ]
  },
  {
   "cell_type": "markdown",
   "id": "lLnhhk8POCnQ",
   "metadata": {
    "id": "lLnhhk8POCnQ"
   },
   "source": [
    "# Q.3 [40 pts] Swing Stick\n",
    "<img src=\"https://github.com/DARoSLab/Adv_robot_dyn_ctrl/blob/main/Figures/SwingArm.png?raw=true\" width=\"500\">"
   ]
  },
  {
   "cell_type": "markdown",
   "id": "da_NYJ5RsybQ",
   "metadata": {
    "id": "da_NYJ5RsybQ"
   },
   "source": [
    "## Q.3.(a) [20 pts] Implement a swing stick simulation.\n",
    "Use parameters, [$m, I, c, l, \\mu, dt$] = [1, 0.05, 0.5, 1.0, 0, 0.001].\n",
    "\n",
    "Simulate the case when [$\\theta_0, \\dot{\\theta}_0$] = [0, 0] and $F$ is applied at the tip of the arm during 0.05 sec to the vertical direction.\n",
    "\n",
    "(You do not need to consider gravity in this question.)\n"
   ]
  },
  {
   "cell_type": "code",
   "execution_count": null,
   "id": "1exinaB7OJha",
   "metadata": {
    "id": "1exinaB7OJha"
   },
   "outputs": [],
   "source": [
    "def sim_step(theta, theta_dot, F, tau , params=None):\n",
    "  m, I, c, l, mu, dt = params\n",
    "  # Fill your code: implement dynamics to compute the angular acceleration\n",
    "\n",
    "\n",
    "  # Fill your code: Semi-implciti Euler integration\n",
    "\n",
    "\n",
    "  return [th, th_dot]\n",
    "\n",
    "def simulate_stick(theta=0, theta_dot=0, F=50, tau=0, F_duration=0.05, F_start_time=0.0, T=1.0, params=None):\n",
    "  dt = params[-1]\n",
    "  ts = np.linspace(0, T, int(T/dt))\n",
    "  theta_hist = [theta]\n",
    "  theta_dot_hist = [theta_dot]\n",
    "\n",
    "  # Fill your code: Implement the case that the external force pushes the tip of the arm\n",
    "  for i, t in enumerate(ts):\n",
    "\n",
    "\n",
    "\n",
    "\n",
    "  ts = ts.tolist()\n",
    "  ts.append(T)\n",
    "  return [theta_hist, theta_dot_hist, ts]"
   ]
  },
  {
   "cell_type": "code",
   "execution_count": null,
   "id": "JLKS4sM0hydf",
   "metadata": {
    "id": "JLKS4sM0hydf"
   },
   "outputs": [],
   "source": [
    "# Visualization code: No need to change\n",
    "def plot_stick(q, ts, params, num_frames= 100):\n",
    "  fig= plt.figure(figsize=(10,10))\n",
    "  ax = plt.subplot(1,1,1)\n",
    "  m, I, c, l, mu, dt = params\n",
    "  link1, = ax.plot([], [], 'b', lw=10)     # ax.plot returns a list of 2D line objects\n",
    "  txt_title = ax.set_title('')\n",
    "\n",
    "  ax.set_xlim(( -2.5, 2.5))    # Canvas size\n",
    "  ax.set_ylim((-2.5, 2.5))\n",
    "  txt_title = ax.set_title('')\n",
    "  interval = len(q)//num_frames\n",
    "\n",
    "  def drawFrame(k):\n",
    "    k = interval*k\n",
    "    q0 = q[k]\n",
    "    rA = [l*np.cos(q0), l*np.sin(q0)]\n",
    "    x1 = 0\n",
    "    x2 = rA[0]\n",
    "    y1 = 0\n",
    "    y2 = rA[1]\n",
    "    link1.set_data([x1, x2], [y1, y2])\n",
    "    txt_title.set_text('t = {:.2f} sec'.format(ts[k]))\n",
    "    return link1,\n",
    "\n",
    "  anim = animation.FuncAnimation(fig, drawFrame, frames=num_frames, interval=interval, blit=True)\n",
    "  return anim"
   ]
  },
  {
   "cell_type": "code",
   "execution_count": null,
   "id": "mc543QelWPmq",
   "metadata": {
    "id": "mc543QelWPmq"
   },
   "outputs": [],
   "source": [
    "# Let's use param: [mass, Inertia, CoM, length, friction coefficient, delta_t]\n",
    "# Fill your code: Run simulation\n",
    "\n",
    "\n",
    "[theta_hist, theta_dot_hist, ts] = simulate_stick(theta=0, theta_dot=0, F=50, tau=0, F_duration=0.05, F_start_time=0.0, T=2.0, params=params)"
   ]
  },
  {
   "cell_type": "code",
   "execution_count": null,
   "id": "exLf17iX86vV",
   "metadata": {
    "id": "exLf17iX86vV"
   },
   "outputs": [],
   "source": [
    "# Joint position and velocity plots (No need to change)\n",
    "plt.plot(ts, theta_hist)\n",
    "plt.plot(ts, theta_dot_hist)\n",
    "plt.show()"
   ]
  },
  {
   "cell_type": "code",
   "execution_count": null,
   "id": "Vjib488niQYR",
   "metadata": {
    "id": "Vjib488niQYR"
   },
   "outputs": [],
   "source": [
    "anim = plot_stick(theta_hist, ts, params)\n",
    "plt.close()\n",
    "HTML(anim.to_html5_video())"
   ]
  },
  {
   "cell_type": "markdown",
   "id": "qHoZf2YpkpgV",
   "metadata": {
    "id": "qHoZf2YpkpgV"
   },
   "source": [
    "## Q.3.(b) [5 pts] What is the angular position and velocity after 0.5, 1.0, 1.5 sec?"
   ]
  },
  {
   "cell_type": "code",
   "execution_count": null,
   "id": "F58eWIVGkwbz",
   "metadata": {
    "id": "F58eWIVGkwbz"
   },
   "outputs": [],
   "source": [
    "# Fill your code: Print the angular position and velocity of the arm @ 1, 2, 3 sec\n",
    "dt_arm = params[-1]\n",
    "\n",
    "\n",
    "print(\"1 sec pos: {}, vel: {} \".format(theta_hist[one_sec_idx], theta_dot_hist[one_sec_idx]))\n",
    "print(\"2 sec pos: {}, vel: {} \".format(theta_hist[two_sec_idx], theta_dot_hist[two_sec_idx]))\n",
    "print(\"3 sec pos: {}, vel: {} \".format(theta_hist[three_sec_idx], theta_dot_hist[three_sec_idx]))"
   ]
  },
  {
   "cell_type": "markdown",
   "id": "zPAS6lWhkJBE",
   "metadata": {
    "id": "zPAS6lWhkJBE"
   },
   "source": [
    "## Q.3. (c) [15 pts] Compute the torque to hold the position of the stick when $F = 50$N at the three following position ($\\dot{\\theta} = 0$)\n",
    "### (i) $\\theta=0$, $\\theta=\\frac{\\pi}{4}$, and $\\theta=\\frac{\\pi}{6}$\n",
    "### (ii) Simulate the robot at the configuration in (i) and check whether the stick moves or not."
   ]
  },
  {
   "cell_type": "code",
   "execution_count": null,
   "id": "b9uGx_SIjiOl",
   "metadata": {
    "id": "b9uGx_SIjiOl"
   },
   "outputs": [],
   "source": [
    "_, _, _, l, _, _ = params\n",
    "\n",
    "# Fill your code: Compute the torque to hold the motion of the arm\n",
    "F =\n",
    "\n",
    "theta =\n",
    "tau =\n",
    "print('Torque: {:.2f} Nm'.format(float(tau)))\n",
    "\n",
    "\n",
    "\n",
    "print('Torque: {:.2f} Nm'.format(float(tau)))\n",
    "\n",
    "\n",
    "\n",
    "print('Torque: {:.2f} Nm'.format(float(tau)))"
   ]
  },
  {
   "cell_type": "code",
   "execution_count": null,
   "id": "GHlu8VIZlA2t",
   "metadata": {
    "id": "GHlu8VIZlA2t"
   },
   "outputs": [],
   "source": [
    "# Test your torque: The arm should not move\n",
    "[theta_hist, theta_dot_hist, ts] = simulate_stick(theta=theta, theta_dot=0, F=50, tau=tau, F_duration=1.0, F_start_time=0.0, T=1.0, params=params)\n",
    "anim = plot_stick(theta_hist, ts, params)\n",
    "plt.close()\n",
    "HTML(anim.to_html5_video())"
   ]
  }
 ],
 "metadata": {
  "colab": {
   "provenance": [],
   "toc_visible": true
  },
  "kernelspec": {
   "display_name": "Python 3 (ipykernel)",
   "language": "python",
   "name": "python3"
  },
  "language_info": {
   "codemirror_mode": {
    "name": "ipython",
    "version": 3
   },
   "file_extension": ".py",
   "mimetype": "text/x-python",
   "name": "python",
   "nbconvert_exporter": "python",
   "pygments_lexer": "ipython3",
   "version": "3.8.13"
  }
 },
 "nbformat": 4,
 "nbformat_minor": 5
}
